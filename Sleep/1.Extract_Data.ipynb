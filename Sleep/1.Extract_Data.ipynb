{
 "cells": [
  {
   "cell_type": "code",
   "execution_count": 1,
   "metadata": {},
   "outputs": [
    {
     "name": "stdout",
     "output_type": "stream",
     "text": [
      "{'id': '84962-aa05fbf7e-5e311b99ab0d7af9e7a-', 'age': 31, 'weight': 75.8, 'height': 1.5, 'biological_sex': 'female', 'email': 'nada.haboudal@gmail.com'}\n"
     ]
    }
   ],
   "source": [
    "#pip install requests pandas\n",
    "\n",
    "import requests\n",
    "\n",
    "# Your Personal Access Token\n",
    "TOKEN = ''\n",
    "\n",
    "# Oura API endpoint to fetch your personal information\n",
    "URL = 'https://api.ouraring.com/v2/usercollection/personal_info'\n",
    "\n",
    "# Set up the headers with your token\n",
    "headers = {\n",
    "    'Authorization': f'Bearer {TOKEN}',\n",
    "    'Content-Type': 'application/json'\n",
    "}\n",
    "\n",
    "# Make the GET request\n",
    "response = requests.get(URL, headers=headers)\n",
    "\n",
    "# Check if the request was successful\n",
    "if response.status_code == 200:\n",
    "    try:\n",
    "        data = response.json()\n",
    "        print(data)\n",
    "    except Exception as e:\n",
    "        print(f\"Error processing the data: {e}\")\n",
    "else:\n",
    "    print(f\"Failed to fetch data. Status code: {response.status_code}, Message: {response.text}\")\n",
    "\n"
   ]
  },
  {
   "cell_type": "code",
   "execution_count": 8,
   "metadata": {},
   "outputs": [
    {
     "name": "stdout",
     "output_type": "stream",
     "text": [
      "{\"data\":[{\"id\":\"39e593e6-4502-47c3-af34-fd396eb84d69\",\"contributors\":{\"deep_sleep\":99,\"efficiency\":93,\"latency\":72,\"rem_sleep\":99,\"restfulness\":60,\"timing\":29,\"total_sleep\":100},\"day\":\"2022-08-27\",\"score\":83,\"timestamp\":\"2022-08-27T00:00:00+00:00\"},{\"id\":\"aa8931af-d4df-4fc0-9a92-4ca868e000dc\",\"contributors\":{\"deep_sleep\":93,\"efficiency\":95,\"latency\":67,\"rem_sleep\":95,\"restfulness\":58,\"timing\":21,\"total_sleep\":85},\"day\":\"2022-08-28\",\"score\":76,\"timestamp\":\"2022-08-28T00:00:00+00:00\"},{\"id\":\"929dcd9b-359f-4f38-baf0-12b7de2c58e1\",\"contributors\":{\"deep_sleep\":100,\"efficiency\":69,\"latency\":99,\"rem_sleep\":100,\"restfulness\":77,\"timing\":47,\"total_sleep\":100},\"day\":\"2022-08-29\",\"score\":88,\"timestamp\":\"2022-08-29T00:00:00+00:00\"},{\"id\":\"e229a2a1-f95f-4224-859f-a8c714f813c2\",\"contributors\":{\"deep_sleep\":100,\"efficiency\":95,\"latency\":40,\"rem_sleep\":97,\"restfulness\":78,\"timing\":83,\"total_sleep\":69},\"day\":\"2022-08-30\",\"score\":77,\"timestamp\":\"2022-08-30T00:00:00+00:00\"},{\"id\":\"51d942a6-6adb-459f-9629-2d21b9f725f9\",\"contributors\":{\"deep_sleep\":100,\"efficiency\":79,\"latency\":89,\"rem_sleep\":98,\"restfulness\":72,\"timing\":23,\"total_sleep\":97},\"day\":\"2022-08-31\",\"score\":84,\"timestamp\":\"2022-08-31T00:00:00+00:00\"},{\"id\":\"ed88768c-7d16-48c4-b3b2-05f7999a6163\",\"contributors\":{\"deep_sleep\":100,\"efficiency\":60,\"latency\":83,\"rem_sleep\":98,\"restfulness\":75,\"timing\":16,\"total_sleep\":92},\"day\":\"2022-09-01\",\"score\":79,\"timestamp\":\"2022-09-01T00:00:00+00:00\"},{\"id\":\"ecb12395-2b89-4ef9-9e95-526b62652dfc\",\"contributors\":{\"deep_sleep\":100,\"efficiency\":99,\"latency\":70,\"rem_sleep\":75,\"restfulness\":76,\"timing\":72,\"total_sleep\":64},\"day\":\"2022-09-02\",\"score\":75,\"timestamp\":\"2022-09-02T00:00:00+00:00\"},{\"id\":\"a613f139-564a-45a5-ada2-7c48ee4460c4\",\"contributors\":{\"deep_sleep\":100,\"efficiency\":90,\"latency\":67,\"rem_sleep\":100,\"restfulness\":68,\"timing\":49,\"total_sleep\":100},\"day\":\"2022-09-03\",\"score\":86,\"timestamp\":\"2022-09-03T00:00:00+00:00\"},{\"id\":\"e6cf9a1d-4219-4fe7-af7f-ba45e837977f\",\"contributors\":{\"deep_sleep\":97,\"efficiency\":86,\"latency\":86,\"rem_sleep\":100,\"restfulness\":63,\"timing\":46,\"total_sleep\":100},\"day\":\"2022-09-04\",\"score\":86,\"timestamp\":\"2022-09-04T00:00:00+00:00\"},{\"id\":\"5b8854bd-689d-46e1-bd20-48f75bf22fd2\",\"contributors\":{\"deep_sleep\":97,\"efficiency\":86,\"latency\":64,\"rem_sleep\":96,\"restfulness\":58,\"timing\":29,\"total_sleep\":100},\"day\":\"2022-09-05\",\"score\":81,\"timestamp\":\"2022-09-05T00:00:00+00:00\"},{\"id\":\"bb606e29-1595-4c54-a2ea-4455065dd87f\",\"contributors\":{\"deep_sleep\":96,\"efficiency\":76,\"latency\":99,\"rem_sleep\":92,\"restfulness\":69,\"timing\":34,\"total_sleep\":100},\"day\":\"2022-09-06\",\"score\":86,\"timestamp\":\"2022-09-06T00:00:00+00:00\"},{\"id\":\"253bbf20-2de4-4ce9-bcbc-b9b48ef1d321\",\"contributors\":{\"deep_sleep\":100,\"efficiency\":98,\"latency\":91,\"rem_sleep\":98,\"restfulness\":69,\"timing\":76,\"total_sleep\":95},\"day\":\"2022-09-07\",\"score\":90,\"timestamp\":\"2022-09-07T00:00:00+00:00\"},{\"id\":\"6eae518d-46df-4a43-819c-17f8354a7a0d\",\"contributors\":{\"deep_sleep\":100,\"efficiency\":88,\"latency\":89,\"rem_sleep\":80,\"restfulness\":63,\"timing\":59,\"total_sleep\":92},\"day\":\"2022-09-08\",\"score\":83,\"timestamp\":\"2022-09-08T00:00:00+00:00\"},{\"id\":\"11f76c61-cf92-4d10-b5b7-004df2b75439\",\"contributors\":{\"deep_sleep\":99,\"efficiency\":76,\"latency\":81,\"rem_sleep\":100,\"restfulness\":66,\"timing\":57,\"total_sleep\":100},\"day\":\"2022-09-09\",\"score\":86,\"timestamp\":\"2022-09-09T00:00:00+00:00\"},{\"id\":\"62ce7819-8f53-4f5f-b4bd-efd3b2e2cd06\",\"contributors\":{\"deep_sleep\":99,\"efficiency\":88,\"latency\":89,\"rem_sleep\":96,\"restfulness\":59,\"timing\":20,\"total_sleep\":100},\"day\":\"2022-09-10\",\"score\":83,\"timestamp\":\"2022-09-10T00:00:00+00:00\"},{\"id\":\"d5090b77-a4ed-4231-9161-c4d9fd577914\",\"contributors\":{\"deep_sleep\":98,\"efficiency\":97,\"latency\":70,\"rem_sleep\":100,\"restfulness\":69,\"timing\":34,\"total_sleep\":100},\"day\":\"2022-09-11\",\"score\":85,\"timestamp\":\"2022-09-11T00:00:00+00:00\"},{\"id\":\"6d18676a-9a5f-46e7-99d9-4fcc6c42dc54\",\"contributors\":{\"deep_sleep\":100,\"efficiency\":90,\"latency\":94,\"rem_sleep\":98,\"restfulness\":70,\"timing\":86,\"total_sleep\":100},\"day\":\"2022-09-12\",\"score\":92,\"timestamp\":\"2022-09-12T00:00:00+00:00\"},{\"id\":\"2aec9a38-54ad-4242-9b29-fc290e502cd0\",\"contributors\":{\"deep_sleep\":98,\"efficiency\":88,\"latency\":70,\"rem_sleep\":97,\"restfulness\":56,\"timing\":74,\"total_sleep\":100},\"day\":\"2022-09-13\",\"score\":86,\"timestamp\":\"2022-09-13T00:00:00+00:00\"},{\"id\":\"5fd6df6c-3100-4d67-8881-64f497ef84f5\",\"contributors\":{\"deep_sleep\":99,\"efficiency\":98,\"latency\":75,\"rem_sleep\":79,\"restfulness\":70,\"timing\":99,\"total_sleep\":66},\"day\":\"2022-09-14\",\"score\":79,\"timestamp\":\"2022-09-14T00:00:00+00:00\"},{\"id\":\"044b4841-adc1-4118-88df-adec5360938f\",\"contributors\":{\"deep_sleep\":78,\"efficiency\":97,\"latency\":75,\"rem_sleep\":100,\"restfulness\":65,\"timing\":100,\"total_sleep\":86},\"day\":\"2022-09-15\",\"score\":85,\"timestamp\":\"2022-09-15T00:00:00+00:00\"},{\"id\":\"844099db-9dfd-4848-891a-cbbefa4e6cde\",\"contributors\":{\"deep_sleep\":96,\"efficiency\":98,\"latency\":75,\"rem_sleep\":82,\"restfulness\":68,\"timing\":88,\"total_sleep\":71},\"day\":\"2022-09-16\",\"score\":79,\"timestamp\":\"2022-09-16T00:00:00+00:00\"},{\"id\":\"44106df7-f557-4506-9f9a-dfbde01e17a8\",\"contributors\":{\"deep_sleep\":100,\"efficiency\":88,\"latency\":91,\"rem_sleep\":100,\"restfulness\":72,\"timing\":62,\"total_sleep\":100},\"day\":\"2022-09-17\",\"score\":91,\"timestamp\":\"2022-09-17T00:00:00+00:00\"},{\"id\":\"d62822ae-3a84-48be-966f-48f0ccc317f7\",\"contributors\":{\"deep_sleep\":99,\"efficiency\":83,\"latency\":81,\"rem_sleep\":96,\"restfulness\":59,\"timing\":70,\"total_sleep\":79},\"day\":\"2022-09-18\",\"score\":79,\"timestamp\":\"2022-09-18T00:00:00+00:00\"},{\"id\":\"589bb980-0b2a-4965-aced-f04c95b07d51\",\"contributors\":{\"deep_sleep\":99,\"efficiency\":98,\"latency\":67,\"rem_sleep\":100,\"restfulness\":67,\"timing\":77,\"total_sleep\":91},\"day\":\"2022-09-20\",\"score\":86,\"timestamp\":\"2022-09-20T00:00:00+00:00\"},{\"id\":\"3eb08879-0ce7-4e13-8d07-81573867f0aa\",\"contributors\":{\"deep_sleep\":100,\"efficiency\":90,\"latency\":86,\"rem_sleep\":98,\"restfulness\":68,\"timing\":100,\"total_sleep\":97},\"day\":\"2022-09-21\",\"score\":92,\"timestamp\":\"2022-09-21T00:00:00+00:00\"},{\"id\":\"9efd2237-47b0-4776-b220-e365fd2c04bd\",\"contributors\":{\"deep_sleep\":100,\"efficiency\":93,\"latency\":86,\"rem_sleep\":100,\"restfulness\":69,\"timing\":73,\"total_sleep\":100},\"day\":\"2022-09-22\",\"score\":90,\"timestamp\":\"2022-09-22T00:00:00+00:00\"},{\"id\":\"8add2b6a-3ae3-4ef4-ae54-136c1c51e93f\",\"contributors\":{\"deep_sleep\":100,\"efficiency\":86,\"latency\":86,\"rem_sleep\":99,\"restfulness\":57,\"timing\":42,\"total_sleep\":96},\"day\":\"2022-09-23\",\"score\":83,\"timestamp\":\"2022-09-23T00:00:00+00:00\"},{\"id\":\"5d8d19c3-d774-43ce-805e-8dd2a05005ca\",\"contributors\":{\"deep_sleep\":100,\"efficiency\":95,\"latency\":72,\"rem_sleep\":97,\"restfulness\":62,\"timing\":38,\"total_sleep\":99},\"day\":\"2022-09-24\",\"score\":84,\"timestamp\":\"2022-09-24T00:00:00+00:00\"},{\"id\":\"4f15e0ea-631d-4ca7-b338-684022ca597d\",\"contributors\":{\"deep_sleep\":100,\"efficiency\":96,\"latency\":67,\"rem_sleep\":100,\"restfulness\":67,\"timing\":48,\"total_sleep\":100},\"day\":\"2022-09-25\",\"score\":86,\"timestamp\":\"2022-09-25T00:00:00+00:00\"},{\"id\":\"5c59402f-e450-440a-a354-eb6376339b56\",\"contributors\":{\"deep_sleep\":100,\"efficiency\":81,\"latency\":67,\"rem_sleep\":100,\"restfulness\":56,\"timing\":60,\"total_sleep\":100},\"day\":\"2022-09-26\",\"score\":84,\"timestamp\":\"2022-09-26T00:00:00+00:00\"},{\"id\":\"ccc9fe79-18be-4570-b258-48cf337312b9\",\"contributors\":{\"deep_sleep\":97,\"efficiency\":76,\"latency\":97,\"rem_sleep\":88,\"restfulness\":59,\"timing\":51,\"total_sleep\":91},\"day\":\"2022-09-27\",\"score\":82,\"timestamp\":\"2022-09-27T00:00:00+00:00\"},{\"id\":\"a67a67cf-35b6-48eb-a1d1-a55580ae150b\",\"contributors\":{\"deep_sleep\":98,\"efficiency\":97,\"latency\":67,\"rem_sleep\":100,\"restfulness\":83,\"timing\":75,\"total_sleep\":100},\"day\":\"2022-09-28\",\"score\":91,\"timestamp\":\"2022-09-28T00:00:00+00:00\"},{\"id\":\"61814827-b1c4-45e4-9766-0ee1215369ed\",\"contributors\":{\"deep_sleep\":100,\"efficiency\":86,\"latency\":81,\"rem_sleep\":100,\"restfulness\":74,\"timing\":84,\"total_sleep\":100},\"day\":\"2022-09-29\",\"score\":92,\"timestamp\":\"2022-09-29T00:00:00+00:00\"},{\"id\":\"c27f3a0a-2eec-47db-9a69-0c723c553cd9\",\"contributors\":{\"deep_sleep\":99,\"efficiency\":90,\"latency\":86,\"rem_sleep\":98,\"restfulness\":73,\"timing\":90,\"total_sleep\":93},\"day\":\"2022-09-30\",\"score\":90,\"timestamp\":\"2022-09-30T00:00:00+00:00\"},{\"id\":\"66936c8a-9b82-42fd-8eff-a888a4ab81b9\",\"contributors\":{\"deep_sleep\":96,\"efficiency\":86,\"latency\":86,\"rem_sleep\":98,\"restfulness\":72,\"timing\":34,\"total_sleep\":85},\"day\":\"2022-10-01\",\"score\":81,\"timestamp\":\"2022-10-01T00:00:00+00:00\"},{\"id\":\"a3bcc293-6e1d-474c-b50e-8e1e3d0b14f7\",\"contributors\":{\"deep_sleep\":100,\"efficiency\":97,\"latency\":67,\"rem_sleep\":100,\"restfulness\":78,\"timing\":96,\"total_sleep\":95},\"day\":\"2022-10-02\",\"score\":91,\"timestamp\":\"2022-10-02T00:00:00+00:00\"},{\"id\":\"cfb00b71-3af7-4051-b817-e5a0a6a6f6b9\",\"contributors\":{\"deep_sleep\":100,\"efficiency\":83,\"latency\":78,\"rem_sleep\":98,\"restfulness\":81,\"timing\":57,\"total_sleep\":98},\"day\":\"2022-10-03\",\"score\":88,\"timestamp\":\"2022-10-03T00:00:00+00:00\"},{\"id\":\"fb8739e8-9bb3-43b6-9975-dd4245d945cd\",\"contributors\":{\"deep_sleep\":100,\"efficiency\":79,\"latency\":91,\"rem_sleep\":97,\"restfulness\":74,\"timing\":80,\"total_sleep\":93},\"day\":\"2022-10-04\",\"score\":89,\"timestamp\":\"2022-10-04T00:00:00+00:00\"},{\"id\":\"eff5b944-ff43-4fe5-b967-8487727ca472\",\"contributors\":{\"deep_sleep\":99,\"efficiency\":97,\"latency\":99,\"rem_sleep\":100,\"restfulness\":71,\"timing\":67,\"total_sleep\":100},\"day\":\"2022-10-05\",\"score\":92,\"timestamp\":\"2022-10-05T00:00:00+00:00\"},{\"id\":\"2faed9b6-d7c0-4227-b1c7-f42abe756e70\",\"contributors\":{\"deep_sleep\":100,\"efficiency\":79,\"latency\":89,\"rem_sleep\":100,\"restfulness\":73,\"timing\":86,\"total_sleep\":100},\"day\":\"2022-10-06\",\"score\":92,\"timestamp\":\"2022-10-06T00:00:00+00:00\"},{\"id\":\"a88bb35f-8b2d-488b-b815-679184122635\",\"contributors\":{\"deep_sleep\":100,\"efficiency\":96,\"latency\":83,\"rem_sleep\":96,\"restfulness\":75,\"timing\":100,\"total_sleep\":82},\"day\":\"2022-10-07\",\"score\":88,\"timestamp\":\"2022-10-07T00:00:00+00:00\"},{\"id\":\"fb0d86a9-30eb-4f05-accc-eb1e613ed2b1\",\"contributors\":{\"deep_sleep\":99,\"efficiency\":90,\"latency\":75,\"rem_sleep\":100,\"restfulness\":81,\"timing\":28,\"total_sleep\":100},\"day\":\"2022-10-08\",\"score\":86,\"timestamp\":\"2022-10-08T00:00:00+00:00\"},{\"id\":\"f0f9521a-d63b-4a69-b11d-6987005cbdda\",\"contributors\":{\"deep_sleep\":95,\"efficiency\":76,\"latency\":83,\"rem_sleep\":87,\"restfulness\":74,\"timing\":59,\"total_sleep\":61},\"day\":\"2022-10-09\",\"score\":72,\"timestamp\":\"2022-10-09T00:00:00+00:00\"},{\"id\":\"b2d39338-8ab6-494d-b798-dd59aa98e1fe\",\"contributors\":{\"deep_sleep\":100,\"efficiency\":98,\"latency\":67,\"rem_sleep\":100,\"restfulness\":87,\"timing\":75,\"total_sleep\":100},\"day\":\"2022-10-10\",\"score\":92,\"timestamp\":\"2022-10-10T00:00:00+00:00\"},{\"id\":\"72f58081-ab8d-457b-93f5-51e5a778f471\",\"contributors\":{\"deep_sleep\":100,\"efficiency\":90,\"latency\":91,\"rem_sleep\":100,\"restfulness\":73,\"timing\":60,\"total_sleep\":100},\"day\":\"2022-10-11\",\"score\":91,\"timestamp\":\"2022-10-11T00:00:00+00:00\"},{\"id\":\"b9c0c5d1-3260-4ab1-b1ee-7019480ceb49\",\"contributors\":{\"deep_sleep\":100,\"efficiency\":88,\"latency\":75,\"rem_sleep\":100,\"restfulness\":73,\"timing\":63,\"total_sleep\":100},\"day\":\"2022-10-12\",\"score\":89,\"timestamp\":\"2022-10-12T00:00:00+00:00\"},{\"id\":\"7f23c023-90a1-4c59-acf1-41cd1a444070\",\"contributors\":{\"deep_sleep\":100,\"efficiency\":86,\"latency\":91,\"rem_sleep\":95,\"restfulness\":72,\"timing\":49,\"total_sleep\":81},\"day\":\"2022-10-13\",\"score\":81,\"timestamp\":\"2022-10-13T00:00:00+00:00\"},{\"id\":\"6d74fb45-4d8d-4857-9daf-87bce688c3dd\",\"contributors\":{\"deep_sleep\":100,\"efficiency\":88,\"latency\":67,\"rem_sleep\":100,\"restfulness\":82,\"timing\":59,\"total_sleep\":100},\"day\":\"2022-10-14\",\"score\":89,\"timestamp\":\"2022-10-14T00:00:00+00:00\"},{\"id\":\"6c26ebce-f54b-47ba-9511-ffb89767b69a\",\"contributors\":{\"deep_sleep\":99,\"efficiency\":83,\"latency\":67,\"rem_sleep\":100,\"restfulness\":78,\"timing\":16,\"total_sleep\":100},\"day\":\"2022-10-15\",\"score\":83,\"timestamp\":\"2022-10-15T00:00:00+00:00\"},{\"id\":\"2ef429d7-15a1-4942-8272-efc6a1dd595d\",\"contributors\":{\"deep_sleep\":97,\"efficiency\":98,\"latency\":75,\"rem_sleep\":98,\"restfulness\":81,\"timing\":49,\"total_sleep\":76},\"day\":\"2022-10-16\",\"score\":80,\"timestamp\":\"2022-10-16T00:00:00+00:00\"},{\"id\":\"a4cfc512-d9f8-4fde-8e08-a1cde877ccd7\",\"contributors\":{\"deep_sleep\":100,\"efficiency\":88,\"latency\":83,\"rem_sleep\":100,\"restfulness\":73,\"timing\":65,\"total_sleep\":100},\"day\":\"2022-10-17\",\"score\":90,\"timestamp\":\"2022-10-17T00:00:00+00:00\"},{\"id\":\"d1f73f43-d869-4d66-9bf6-079df417a774\",\"contributors\":{\"deep_sleep\":100,\"efficiency\":97,\"latency\":97,\"rem_sleep\":100,\"restfulness\":80,\"timing\":89,\"total_sleep\":100},\"day\":\"2022-10-18\",\"score\":95,\"timestamp\":\"2022-10-18T00:00:00+00:00\"},{\"id\":\"d670dae8-e29e-42ed-b2e2-13b720630212\",\"contributors\":{\"deep_sleep\":100,\"efficiency\":97,\"latency\":86,\"rem_sleep\":100,\"restfulness\":72,\"timing\":56,\"total_sleep\":100},\"day\":\"2022-10-19\",\"score\":90,\"timestamp\":\"2022-10-19T00:00:00+00:00\"},{\"id\":\"82db86cd-0df5-44fc-921c-98e50f8f405c\",\"contributors\":{\"deep_sleep\":100,\"efficiency\":93,\"latency\":81,\"rem_sleep\":100,\"restfulness\":78,\"timing\":49,\"total_sleep\":98},\"day\":\"2022-10-20\",\"score\":88,\"timestamp\":\"2022-10-20T00:00:00+00:00\"},{\"id\":\"0bb01673-2df0-4aca-ad37-5b2c08b49627\",\"contributors\":{\"deep_sleep\":100,\"efficiency\":81,\"latency\":86,\"rem_sleep\":100,\"restfulness\":73,\"timing\":65,\"total_sleep\":100},\"day\":\"2022-10-21\",\"score\":89,\"timestamp\":\"2022-10-21T00:00:00+00:00\"},{\"id\":\"8413f5f2-88b5-484c-91f8-059bf11b65a8\",\"contributors\":{\"deep_sleep\":100,\"efficiency\":99,\"latency\":67,\"rem_sleep\":100,\"restfulness\":73,\"timing\":17,\"total_sleep\":97},\"day\":\"2022-10-22\",\"score\":83,\"timestamp\":\"2022-10-22T00:00:00+00:00\"},{\"id\":\"8359a115-c187-491c-a38a-4e30440f9ba4\",\"contributors\":{\"deep_sleep\":100,\"efficiency\":83,\"latency\":67,\"rem_sleep\":92,\"restfulness\":74,\"timing\":28,\"total_sleep\":79},\"day\":\"2022-10-23\",\"score\":76,\"timestamp\":\"2022-10-23T00:00:00+00:00\"},{\"id\":\"6c0d6e08-d561-40e3-9ef3-ebb01398afb7\",\"contributors\":{\"deep_sleep\":100,\"efficiency\":96,\"latency\":97,\"rem_sleep\":98,\"restfulness\":72,\"timing\":84,\"total_sleep\":100},\"day\":\"2022-10-24\",\"score\":93,\"timestamp\":\"2022-10-24T00:00:00+00:00\"},{\"id\":\"a43fd3b4-3863-4a5a-a661-2fcc82eee5ae\",\"contributors\":{\"deep_sleep\":100,\"efficiency\":96,\"latency\":78,\"rem_sleep\":98,\"restfulness\":69,\"timing\":45,\"total_sleep\":91},\"day\":\"2022-10-25\",\"score\":84,\"timestamp\":\"2022-10-25T00:00:00+00:00\"},{\"id\":\"37d812ad-78fa-43ad-8527-b2bc1f0d5a47\",\"contributors\":{\"deep_sleep\":100,\"efficiency\":81,\"latency\":91,\"rem_sleep\":100,\"restfulness\":67,\"timing\":76,\"total_sleep\":100},\"day\":\"2022-10-26\",\"score\":90,\"timestamp\":\"2022-10-26T00:00:00+00:00\"},{\"id\":\"b8f9c952-b53a-46d4-a5b1-6eff4106d22f\",\"contributors\":{\"deep_sleep\":100,\"efficiency\":98,\"latency\":97,\"rem_sleep\":100,\"restfulness\":73,\"timing\":88,\"total_sleep\":100},\"day\":\"2022-10-27\",\"score\":94,\"timestamp\":\"2022-10-27T00:00:00+00:00\"},{\"id\":\"4cfc0654-04ef-4d10-9044-215ea164a9e0\",\"contributors\":{\"deep_sleep\":97,\"efficiency\":99,\"latency\":64,\"rem_sleep\":100,\"restfulness\":74,\"timing\":60,\"total_sleep\":98},\"day\":\"2022-10-28\",\"score\":87,\"timestamp\":\"2022-10-28T00:00:00+00:00\"},{\"id\":\"01826d28-dd5c-4130-9651-682f58b33973\",\"contributors\":{\"deep_sleep\":98,\"efficiency\":88,\"latency\":72,\"rem_sleep\":95,\"restfulness\":90,\"timing\":52,\"total_sleep\":67},\"day\":\"2022-10-29\",\"score\":77,\"timestamp\":\"2022-10-29T00:00:00+00:00\"},{\"id\":\"6462d1c4-dd09-4f82-8d7c-f009b238acee\",\"contributors\":{\"deep_sleep\":100,\"efficiency\":96,\"latency\":75,\"rem_sleep\":50,\"restfulness\":68,\"timing\":29,\"total_sleep\":68},\"day\":\"2022-10-30\",\"score\":69,\"timestamp\":\"2022-10-30T00:00:00+00:00\"},{\"id\":\"ba81bd91-bdc9-4f2a-a22f-201699d554d8\",\"contributors\":{\"deep_sleep\":98,\"efficiency\":100,\"latency\":64,\"rem_sleep\":100,\"restfulness\":85,\"timing\":71,\"total_sleep\":100},\"day\":\"2022-10-31\",\"score\":91,\"timestamp\":\"2022-10-31T00:00:00+00:00\"},{\"id\":\"1c6077e8-7b5a-41ba-b8c6-7af3d030fcd8\",\"contributors\":{\"deep_sleep\":100,\"efficiency\":96,\"latency\":72,\"rem_sleep\":100,\"restfulness\":77,\"timing\":77,\"total_sleep\":100},\"day\":\"2022-11-01\",\"score\":91,\"timestamp\":\"2022-11-01T00:00:00+00:00\"},{\"id\":\"05191bad-cd51-40d4-bce3-3cdc85543008\",\"contributors\":{\"deep_sleep\":100,\"efficiency\":88,\"latency\":72,\"rem_sleep\":100,\"restfulness\":70,\"timing\":56,\"total_sleep\":100},\"day\":\"2022-11-02\",\"score\":87,\"timestamp\":\"2022-11-02T00:00:00+00:00\"},{\"id\":\"284c9b4d-6405-4545-8677-7dbfb3925774\",\"contributors\":{\"deep_sleep\":100,\"efficiency\":95,\"latency\":97,\"rem_sleep\":100,\"restfulness\":71,\"timing\":76,\"total_sleep\":100},\"day\":\"2022-11-03\",\"score\":92,\"timestamp\":\"2022-11-03T00:00:00+00:00\"},{\"id\":\"2648657c-458e-413b-a47d-059383c415bc\",\"contributors\":{\"deep_sleep\":98,\"efficiency\":90,\"latency\":67,\"rem_sleep\":91,\"restfulness\":78,\"timing\":74,\"total_sleep\":86},\"day\":\"2022-11-04\",\"score\":84,\"timestamp\":\"2022-11-04T00:00:00+00:00\"},{\"id\":\"e4e0b380-2a59-416a-be21-2b27beba58e7\",\"contributors\":{\"deep_sleep\":100,\"efficiency\":100,\"latency\":83,\"rem_sleep\":100,\"restfulness\":74,\"timing\":19,\"total_sleep\":100},\"day\":\"2022-11-05\",\"score\":86,\"timestamp\":\"2022-11-05T00:00:00+00:00\"},{\"id\":\"be0fd38e-4ebc-448d-b465-c4280b5ac54c\",\"contributors\":{\"deep_sleep\":98,\"efficiency\":96,\"latency\":72,\"rem_sleep\":100,\"restfulness\":82,\"timing\":53,\"total_sleep\":100},\"day\":\"2022-11-06\",\"score\":90,\"timestamp\":\"2022-11-06T00:00:00+00:00\"},{\"id\":\"eea872d2-6d67-4a68-934f-f668458590ea\",\"contributors\":{\"deep_sleep\":98,\"efficiency\":97,\"latency\":64,\"rem_sleep\":100,\"restfulness\":83,\"timing\":52,\"total_sleep\":93},\"day\":\"2022-11-07\",\"score\":86,\"timestamp\":\"2022-11-07T00:00:00+00:00\"},{\"id\":\"48c7e635-72a8-48db-99c6-441f21ce4cc8\",\"contributors\":{\"deep_sleep\":100,\"efficiency\":90,\"latency\":83,\"rem_sleep\":100,\"restfulness\":75,\"timing\":24,\"total_sleep\":100},\"day\":\"2022-11-08\",\"score\":86,\"timestamp\":\"2022-11-08T00:00:00+00:00\"},{\"id\":\"0f98be4e-bee1-4447-bf34-5ce0c878cde7\",\"contributors\":{\"deep_sleep\":100,\"efficiency\":79,\"latency\":81,\"rem_sleep\":98,\"restfulness\":71,\"timing\":24,\"total_sleep\":94},\"day\":\"2022-11-09\",\"score\":82,\"timestamp\":\"2022-11-09T00:00:00+00:00\"},{\"id\":\"bc9b8b1f-4f2f-45fd-98ae-0addee1b026a\",\"contributors\":{\"deep_sleep\":100,\"efficiency\":88,\"latency\":67,\"rem_sleep\":96,\"restfulness\":85,\"timing\":39,\"total_sleep\":86},\"day\":\"2022-11-10\",\"score\":82,\"timestamp\":\"2022-11-10T00:00:00+00:00\"},{\"id\":\"d21e4e7d-22ae-4b3f-b002-ffc62317278a\",\"contributors\":{\"deep_sleep\":100,\"efficiency\":99,\"latency\":72,\"rem_sleep\":100,\"restfulness\":75,\"timing\":27,\"total_sleep\":100},\"day\":\"2022-11-11\",\"score\":86,\"timestamp\":\"2022-11-11T00:00:00+00:00\"},{\"id\":\"b3702164-1ff3-4463-9436-d00cd5bac240\",\"contributors\":{\"deep_sleep\":100,\"efficiency\":96,\"latency\":72,\"rem_sleep\":100,\"restfulness\":74,\"timing\":52,\"total_sleep\":100},\"day\":\"2022-11-12\",\"score\":88,\"timestamp\":\"2022-11-12T00:00:00+00:00\"},{\"id\":\"7b643073-f5ea-4048-b8aa-0cd5c186c896\",\"contributors\":{\"deep_sleep\":96,\"efficiency\":88,\"latency\":67,\"rem_sleep\":19,\"restfulness\":78,\"timing\":100,\"total_sleep\":21},\"day\":\"2022-11-13\",\"score\":56,\"timestamp\":\"2022-11-13T00:00:00+00:00\"},{\"id\":\"3dd15358-02f9-4b73-b214-bf4253daea24\",\"contributors\":{\"deep_sleep\":100,\"efficiency\":96,\"latency\":70,\"rem_sleep\":100,\"restfulness\":72,\"timing\":100,\"total_sleep\":100},\"day\":\"2022-11-14\",\"score\":92,\"timestamp\":\"2022-11-14T00:00:00+00:00\"},{\"id\":\"1cd4b7c8-8dd4-45f7-b261-4210981afa7e\",\"contributors\":{\"deep_sleep\":99,\"efficiency\":96,\"latency\":86,\"rem_sleep\":87,\"restfulness\":68,\"timing\":39,\"total_sleep\":71},\"day\":\"2022-11-15\",\"score\":76,\"timestamp\":\"2022-11-15T00:00:00+00:00\"},{\"id\":\"dd9b68e5-31ab-4862-ad7d-b4f671ab7f1a\",\"contributors\":{\"deep_sleep\":100,\"efficiency\":96,\"latency\":70,\"rem_sleep\":80,\"restfulness\":70,\"timing\":38,\"total_sleep\":68},\"day\":\"2022-11-16\",\"score\":73,\"timestamp\":\"2022-11-16T00:00:00+00:00\"},{\"id\":\"023ed008-a1d7-46d1-90a6-dc525fb403b5\",\"contributors\":{\"deep_sleep\":100,\"efficiency\":96,\"latency\":89,\"rem_sleep\":69,\"restfulness\":65,\"timing\":69,\"total_sleep\":63},\"day\":\"2022-11-18\",\"score\":74,\"timestamp\":\"2022-11-18T00:00:00+00:00\"},{\"id\":\"35a0d238-9e84-4b32-b681-e59b4e707094\",\"contributors\":{\"deep_sleep\":100,\"efficiency\":95,\"latency\":70,\"rem_sleep\":65,\"restfulness\":76,\"timing\":100,\"total_sleep\":58},\"day\":\"2022-11-19\",\"score\":75,\"timestamp\":\"2022-11-19T00:00:00+00:00\"},{\"id\":\"915154aa-1a55-4482-b7bc-49ff3eb6b129\",\"contributors\":{\"deep_sleep\":100,\"efficiency\":100,\"latency\":64,\"rem_sleep\":98,\"restfulness\":85,\"timing\":69,\"total_sleep\":88},\"day\":\"2022-11-20\",\"score\":87,\"timestamp\":\"2022-11-20T00:00:00+00:00\"},{\"id\":\"69d2c313-5e17-4628-9e80-9f7fed2d9511\",\"contributors\":{\"deep_sleep\":100,\"efficiency\":76,\"latency\":91,\"rem_sleep\":95,\"restfulness\":83,\"timing\":15,\"total_sleep\":69},\"day\":\"2022-11-21\",\"score\":74,\"timestamp\":\"2022-11-21T00:00:00+00:00\"},{\"id\":\"5d4d2ee7-27f9-44ff-9c42-3b18ea55a6b4\",\"contributors\":{\"deep_sleep\":99,\"efficiency\":96,\"latency\":75,\"rem_sleep\":100,\"restfulness\":74,\"timing\":73,\"total_sleep\":91},\"day\":\"2022-11-22\",\"score\":87,\"timestamp\":\"2022-11-22T00:00:00+00:00\"},{\"id\":\"7a5e8ff1-233b-4ccb-be42-27606e49187a\",\"contributors\":{\"deep_sleep\":100,\"efficiency\":96,\"latency\":78,\"rem_sleep\":100,\"restfulness\":82,\"timing\":39,\"total_sleep\":100},\"day\":\"2022-11-27\",\"score\":89,\"timestamp\":\"2022-11-27T00:00:00+00:00\"},{\"id\":\"3e68a87b-edb1-463f-ba35-16006be31f63\",\"contributors\":{\"deep_sleep\":99,\"efficiency\":79,\"latency\":72,\"rem_sleep\":14,\"restfulness\":69,\"timing\":100,\"total_sleep\":36},\"day\":\"2022-11-28\",\"score\":59,\"timestamp\":\"2022-11-28T00:00:00+00:00\"},{\"id\":\"ef52aa19-59cd-4821-99e6-3a844d8cebc5\",\"contributors\":{\"deep_sleep\":100,\"efficiency\":98,\"latency\":94,\"rem_sleep\":100,\"restfulness\":76,\"timing\":100,\"total_sleep\":100},\"day\":\"2022-11-30\",\"score\":96,\"timestamp\":\"2022-11-30T00:00:00+00:00\"},{\"id\":\"60b58142-247c-4eba-a727-7c8f4a009017\",\"contributors\":{\"deep_sleep\":100,\"efficiency\":97,\"latency\":81,\"rem_sleep\":100,\"restfulness\":74,\"timing\":61,\"total_sleep\":100},\"day\":\"2022-12-01\",\"score\":90,\"timestamp\":\"2022-12-01T00:00:00+00:00\"},{\"id\":\"59517d51-1dce-4ee3-9f8f-36cf972d565a\",\"contributors\":{\"deep_sleep\":98,\"efficiency\":96,\"latency\":86,\"rem_sleep\":87,\"restfulness\":72,\"timing\":100,\"total_sleep\":61},\"day\":\"2022-12-02\",\"score\":79,\"timestamp\":\"2022-12-02T00:00:00+00:00\"},{\"id\":\"c91efe2a-f3ec-4bfe-93f9-74720a86f573\",\"contributors\":{\"deep_sleep\":100,\"efficiency\":88,\"latency\":78,\"rem_sleep\":100,\"restfulness\":70,\"timing\":65,\"total_sleep\":100},\"day\":\"2022-12-03\",\"score\":89,\"timestamp\":\"2022-12-03T00:00:00+00:00\"},{\"id\":\"127c5275-4b78-42b9-b053-33513c8ec0ed\",\"contributors\":{\"deep_sleep\":100,\"efficiency\":90,\"latency\":70,\"rem_sleep\":100,\"restfulness\":94,\"timing\":41,\"total_sleep\":87},\"day\":\"2022-12-04\",\"score\":85,\"timestamp\":\"2022-12-04T00:00:00+00:00\"},{\"id\":\"22b7afa9-a055-4462-ab61-e5e53ff69898\",\"contributors\":{\"deep_sleep\":100,\"efficiency\":86,\"latency\":81,\"rem_sleep\":100,\"restfulness\":76,\"timing\":66,\"total_sleep\":95},\"day\":\"2022-12-05\",\"score\":88,\"timestamp\":\"2022-12-05T00:00:00+00:00\"},{\"id\":\"2185197f-2425-423d-9343-e047f415adc8\",\"contributors\":{\"deep_sleep\":100,\"efficiency\":88,\"latency\":78,\"rem_sleep\":98,\"restfulness\":77,\"timing\":64,\"total_sleep\":95},\"day\":\"2022-12-06\",\"score\":88,\"timestamp\":\"2022-12-06T00:00:00+00:00\"},{\"id\":\"67fcd4f9-69c6-48b9-829b-86765c556412\",\"contributors\":{\"deep_sleep\":100,\"efficiency\":76,\"latency\":78,\"rem_sleep\":99,\"restfulness\":72,\"timing\":19,\"total_sleep\":85},\"day\":\"2022-12-07\",\"score\":78,\"timestamp\":\"2022-12-07T00:00:00+00:00\"},{\"id\":\"b462e3cd-9635-4ffe-85df-f1936dab7d15\",\"contributors\":{\"deep_sleep\":98,\"efficiency\":81,\"latency\":75,\"rem_sleep\":100,\"restfulness\":79,\"timing\":19,\"total_sleep\":82},\"day\":\"2022-12-08\",\"score\":78,\"timestamp\":\"2022-12-08T00:00:00+00:00\"},{\"id\":\"8f901a43-3a95-4c95-a2ef-ada9aacfe727\",\"contributors\":{\"deep_sleep\":100,\"efficiency\":93,\"latency\":67,\"rem_sleep\":77,\"restfulness\":71,\"timing\":87,\"total_sleep\":74},\"day\":\"2022-12-09\",\"score\":79,\"timestamp\":\"2022-12-09T00:00:00+00:00\"},{\"id\":\"9bdf73b8-3aae-4665-8391-9e59f3052919\",\"contributors\":{\"deep_sleep\":100,\"efficiency\":79,\"latency\":86,\"rem_sleep\":99,\"restfulness\":70,\"timing\":49,\"total_sleep\":97},\"day\":\"2022-12-11\",\"score\":86,\"timestamp\":\"2022-12-11T00:00:00+00:00\"},{\"id\":\"1808b5a5-53f3-4590-a605-83347cb41407\",\"contributors\":{\"deep_sleep\":100,\"efficiency\":97,\"latency\":75,\"rem_sleep\":100,\"restfulness\":80,\"timing\":77,\"total_sleep\":100},\"day\":\"2022-12-12\",\"score\":92,\"timestamp\":\"2022-12-12T00:00:00+00:00\"},{\"id\":\"9c01318d-ff9f-44da-ba12-6e3c839e06de\",\"contributors\":{\"deep_sleep\":100,\"efficiency\":74,\"latency\":94,\"rem_sleep\":99,\"restfulness\":71,\"timing\":52,\"total_sleep\":100},\"day\":\"2022-12-13\",\"score\":88,\"timestamp\":\"2022-12-13T00:00:00+00:00\"},{\"id\":\"083e119d-f04d-4665-8f7b-bfd21006a908\",\"contributors\":{\"deep_sleep\":100,\"efficiency\":90,\"latency\":94,\"rem_sleep\":100,\"restfulness\":70,\"timing\":73,\"total_sleep\":100},\"day\":\"2022-12-14\",\"score\":91,\"timestamp\":\"2022-12-14T00:00:00+00:00\"},{\"id\":\"d88bc231-b637-4eeb-9632-2b5766cf80be\",\"contributors\":{\"deep_sleep\":100,\"efficiency\":83,\"latency\":75,\"rem_sleep\":100,\"restfulness\":77,\"timing\":39,\"total_sleep\":100},\"day\":\"2022-12-15\",\"score\":86,\"timestamp\":\"2022-12-15T00:00:00+00:00\"},{\"id\":\"30564585-7a2f-46bc-95a7-00506bb0b6c1\",\"contributors\":{\"deep_sleep\":100,\"efficiency\":65,\"latency\":94,\"rem_sleep\":97,\"restfulness\":69,\"timing\":55,\"total_sleep\":100},\"day\":\"2022-12-16\",\"score\":87,\"timestamp\":\"2022-12-16T00:00:00+00:00\"},{\"id\":\"c6c445fd-c7f2-453a-b0f5-7e949b33304f\",\"contributors\":{\"deep_sleep\":100,\"efficiency\":95,\"latency\":81,\"rem_sleep\":89,\"restfulness\":71,\"timing\":75,\"total_sleep\":80},\"day\":\"2022-12-17\",\"score\":83,\"timestamp\":\"2022-12-17T00:00:00+00:00\"},{\"id\":\"4814b428-7a37-4a6a-9d9d-7e117c718bc7\",\"contributors\":{\"deep_sleep\":100,\"efficiency\":62,\"latency\":75,\"rem_sleep\":93,\"restfulness\":72,\"timing\":100,\"total_sleep\":81},\"day\":\"2022-12-18\",\"score\":82,\"timestamp\":\"2022-12-18T00:00:00+00:00\"},{\"id\":\"966d53b9-7f6e-4860-989e-fcc07139f037\",\"contributors\":{\"deep_sleep\":100,\"efficiency\":65,\"latency\":99,\"rem_sleep\":94,\"restfulness\":77,\"timing\":22,\"total_sleep\":100},\"day\":\"2022-12-19\",\"score\":85,\"timestamp\":\"2022-12-19T00:00:00+00:00\"},{\"id\":\"c148efef-a7e9-4b68-a362-7eaa8720bacc\",\"contributors\":{\"deep_sleep\":100,\"efficiency\":74,\"latency\":67,\"rem_sleep\":96,\"restfulness\":67,\"timing\":44,\"total_sleep\":96},\"day\":\"2022-12-20\",\"score\":82,\"timestamp\":\"2022-12-20T00:00:00+00:00\"},{\"id\":\"1a320d3d-7ffe-46b0-8522-9a4e64f82d5c\",\"contributors\":{\"deep_sleep\":100,\"efficiency\":76,\"latency\":81,\"rem_sleep\":100,\"restfulness\":73,\"timing\":72,\"total_sleep\":100},\"day\":\"2022-12-21\",\"score\":90,\"timestamp\":\"2022-12-21T00:00:00+00:00\"},{\"id\":\"752df1e2-9b7d-4ec6-a8ec-e7b48dbd6ac0\",\"contributors\":{\"deep_sleep\":99,\"efficiency\":90,\"latency\":72,\"rem_sleep\":96,\"restfulness\":69,\"timing\":17,\"total_sleep\":78},\"day\":\"2022-12-22\",\"score\":75,\"timestamp\":\"2022-12-22T00:00:00+00:00\"},{\"id\":\"fc546ed9-9e48-479f-be59-203aba673ae5\",\"contributors\":{\"deep_sleep\":97,\"efficiency\":76,\"latency\":64,\"rem_sleep\":86,\"restfulness\":81,\"timing\":12,\"total_sleep\":80},\"day\":\"2022-12-23\",\"score\":74,\"timestamp\":\"2022-12-23T00:00:00+00:00\"},{\"id\":\"450d1297-14e0-413b-bb4e-49fa28e404bc\",\"contributors\":{\"deep_sleep\":100,\"efficiency\":72,\"latency\":83,\"rem_sleep\":100,\"restfulness\":74,\"timing\":31,\"total_sleep\":100},\"day\":\"2022-12-24\",\"score\":86,\"timestamp\":\"2022-12-24T00:00:00+00:00\"},{\"id\":\"364c7adb-dcb3-43e9-80f9-34d31c10909b\",\"contributors\":{\"deep_sleep\":100,\"efficiency\":98,\"latency\":72,\"rem_sleep\":96,\"restfulness\":72,\"timing\":72,\"total_sleep\":74},\"day\":\"2022-12-25\",\"score\":81,\"timestamp\":\"2022-12-25T00:00:00+00:00\"},{\"id\":\"61acc54a-4693-415c-980a-d10b09de4a00\",\"contributors\":{\"deep_sleep\":100,\"efficiency\":96,\"latency\":83,\"rem_sleep\":99,\"restfulness\":78,\"timing\":24,\"total_sleep\":95},\"day\":\"2022-12-26\",\"score\":85,\"timestamp\":\"2022-12-26T00:00:00+00:00\"},{\"id\":\"d1835323-6956-4239-819d-6e143c0b8746\",\"contributors\":{\"deep_sleep\":96,\"efficiency\":90,\"latency\":78,\"rem_sleep\":98,\"restfulness\":78,\"timing\":32,\"total_sleep\":75},\"day\":\"2022-12-27\",\"score\":77,\"timestamp\":\"2022-12-27T00:00:00+00:00\"},{\"id\":\"08260e48-4608-495e-a198-5a7719007a4c\",\"contributors\":{\"deep_sleep\":100,\"efficiency\":62,\"latency\":86,\"rem_sleep\":100,\"restfulness\":76,\"timing\":54,\"total_sleep\":100},\"day\":\"2022-12-29\",\"score\":87,\"timestamp\":\"2022-12-29T00:00:00+00:00\"},{\"id\":\"78435c75-64c2-4883-9b18-0dbb83c685a9\",\"contributors\":{\"deep_sleep\":99,\"efficiency\":97,\"latency\":75,\"rem_sleep\":97,\"restfulness\":72,\"timing\":100,\"total_sleep\":100},\"day\":\"2022-12-30\",\"score\":93,\"timestamp\":\"2022-12-30T00:00:00+00:00\"},{\"id\":\"42c77d92-d747-49a6-b14e-13e4beda2451\",\"contributors\":{\"deep_sleep\":98,\"efficiency\":88,\"latency\":86,\"rem_sleep\":100,\"restfulness\":79,\"timing\":60,\"total_sleep\":89},\"day\":\"2022-12-31\",\"score\":86,\"timestamp\":\"2022-12-31T00:00:00+00:00\"},{\"id\":\"3284e981-fc85-4704-8c4d-a173f3dba4b1\",\"contributors\":{\"deep_sleep\":100,\"efficiency\":100,\"latency\":72,\"rem_sleep\":100,\"restfulness\":80,\"timing\":100,\"total_sleep\":99},\"day\":\"2023-01-04\",\"score\":94,\"timestamp\":\"2023-01-04T00:00:00+00:00\"},{\"id\":\"4a9f4078-4eb0-44b1-87e4-b48fddb01141\",\"contributors\":{\"deep_sleep\":97,\"efficiency\":93,\"latency\":91,\"rem_sleep\":95,\"restfulness\":77,\"timing\":72,\"total_sleep\":74},\"day\":\"2023-01-06\",\"score\":82,\"timestamp\":\"2023-01-06T00:00:00+00:00\"},{\"id\":\"bac8f6b2-24ca-44ff-9ccc-47763a3194ff\",\"contributors\":{\"deep_sleep\":100,\"efficiency\":97,\"latency\":97,\"rem_sleep\":50,\"restfulness\":78,\"timing\":49,\"total_sleep\":49},\"day\":\"2023-01-07\",\"score\":68,\"timestamp\":\"2023-01-07T00:00:00+00:00\"},{\"id\":\"972946a1-d04a-43c4-9ab7-f2c3b65d824f\",\"contributors\":{\"deep_sleep\":100,\"efficiency\":93,\"latency\":99,\"rem_sleep\":69,\"restfulness\":77,\"timing\":30,\"total_sleep\":62},\"day\":\"2023-01-09\",\"score\":72,\"timestamp\":\"2023-01-09T00:00:00+00:00\"},{\"id\":\"0fc74c2b-5c7d-407a-acf0-e7edbba50583\",\"contributors\":{\"deep_sleep\":99,\"efficiency\":90,\"latency\":99,\"rem_sleep\":100,\"restfulness\":75,\"timing\":57,\"total_sleep\":100},\"day\":\"2023-01-10\",\"score\":91,\"timestamp\":\"2023-01-10T00:00:00+00:00\"},{\"id\":\"6e244b9a-b0b6-4f55-b6b4-061f79b90223\",\"contributors\":{\"deep_sleep\":100,\"efficiency\":88,\"latency\":86,\"rem_sleep\":91,\"restfulness\":73,\"timing\":24,\"total_sleep\":84},\"day\":\"2023-01-11\",\"score\":79,\"timestamp\":\"2023-01-11T00:00:00+00:00\"},{\"id\":\"d538bb87-628d-45fe-b70a-6d58b577386c\",\"contributors\":{\"deep_sleep\":100,\"efficiency\":93,\"latency\":86,\"rem_sleep\":100,\"restfulness\":72,\"timing\":24,\"total_sleep\":100},\"day\":\"2023-01-16\",\"score\":86,\"timestamp\":\"2023-01-16T00:00:00+00:00\"},{\"id\":\"86dff713-0a4f-407f-b056-a4b2023f1a9e\",\"contributors\":{\"deep_sleep\":100,\"efficiency\":74,\"latency\":67,\"rem_sleep\":98,\"restfulness\":74,\"timing\":100,\"total_sleep\":100},\"day\":\"2023-01-17\",\"score\":90,\"timestamp\":\"2023-01-17T00:00:00+00:00\"},{\"id\":\"f7306b8c-b653-4a14-a8b5-07fe1c5b2f9c\",\"contributors\":{\"deep_sleep\":100,\"efficiency\":83,\"latency\":89,\"rem_sleep\":100,\"restfulness\":70,\"timing\":54,\"total_sleep\":100},\"day\":\"2023-01-18\",\"score\":89,\"timestamp\":\"2023-01-18T00:00:00+00:00\"},{\"id\":\"6a694c22-cc86-4fa7-b694-489cb0550133\",\"contributors\":{\"deep_sleep\":98,\"efficiency\":98,\"latency\":97,\"rem_sleep\":62,\"restfulness\":79,\"timing\":100,\"total_sleep\":52},\"day\":\"2023-01-19\",\"score\":76,\"timestamp\":\"2023-01-19T00:00:00+00:00\"},{\"id\":\"abc6e4f7-dca5-4563-b942-d1b07b964486\",\"contributors\":{\"deep_sleep\":99,\"efficiency\":95,\"latency\":97,\"rem_sleep\":63,\"restfulness\":81,\"timing\":100,\"total_sleep\":57},\"day\":\"2023-01-19\",\"score\":78,\"timestamp\":\"2023-01-19T00:00:00+00:00\"},{\"id\":\"0cb7176a-4294-4a63-a552-6e5cf77b4025\",\"contributors\":{\"deep_sleep\":100,\"efficiency\":93,\"latency\":72,\"rem_sleep\":96,\"restfulness\":72,\"timing\":40,\"total_sleep\":96},\"day\":\"2023-01-20\",\"score\":85,\"timestamp\":\"2023-01-20T00:00:00+00:00\"},{\"id\":\"e3af3252-f131-4caf-a92e-19cc557f19c3\",\"contributors\":{\"deep_sleep\":100,\"efficiency\":69,\"latency\":81,\"rem_sleep\":96,\"restfulness\":72,\"timing\":23,\"total_sleep\":85},\"day\":\"2023-01-22\",\"score\":78,\"timestamp\":\"2023-01-22T00:00:00+00:00\"},{\"id\":\"b5820a05-6a57-4885-91b1-c9a900ed312e\",\"contributors\":{\"deep_sleep\":100,\"efficiency\":96,\"latency\":89,\"rem_sleep\":100,\"restfulness\":83,\"timing\":92,\"total_sleep\":96},\"day\":\"2023-01-23\",\"score\":94,\"timestamp\":\"2023-01-23T00:00:00+00:00\"}],\"next_token\":null}\n"
     ]
    }
   ],
   "source": [
    "import requests\n",
    "\n",
    "# Your Personal Access Token\n",
    "TOKEN = ''\n",
    "\n",
    "# Oura API endpoint to fetch sleep data\n",
    "URL = 'https://api.ouraring.com/v2/usercollection/daily_sleep'\n",
    "\n",
    "# Parameters for the desired date range\n",
    "params = {\n",
    "    'start_date': '2022-08-27',\n",
    "    'end_date': '2023-01-24'\n",
    "}\n",
    "\n",
    "# Set up the headers with your token\n",
    "headers = {\n",
    "    'Authorization': f'Bearer {TOKEN}',\n",
    "    'Content-Type': 'application/json'\n",
    "}\n",
    "\n",
    "# Make the GET request\n",
    "response = requests.get(URL, headers=headers, params=params)\n",
    "\n",
    "# Print the response\n",
    "if response.status_code == 200:\n",
    "    print(response.text)\n",
    "else:\n",
    "    print(f\"Failed to fetch data. Status code: {response.status_code}, Message: {response.text}\")\n",
    "\n"
   ]
  },
  {
   "cell_type": "code",
   "execution_count": 10,
   "metadata": {},
   "outputs": [
    {
     "name": "stdout",
     "output_type": "stream",
     "text": [
      "Response saved to '/Users/nada/Desktop/Oura_Sleep/sleep.txt'\n"
     ]
    }
   ],
   "source": [
    "# Assuming you already have response.text\n",
    "text_to_save = response.text\n",
    "\n",
    "# Specify the filename with the desired path\n",
    "filename = '/sleep.txt'\n",
    "\n",
    "# Save the text to the specified file\n",
    "try:\n",
    "    with open(filename, 'w') as file:\n",
    "        file.write(text_to_save)\n",
    "    print(f\"Response saved to '{filename}'\")\n",
    "    \n",
    "except OSError as e:\n",
    "    print(f\"Failed to save the file. Error: {e}\")\n"
   ]
  },
  {
   "cell_type": "code",
   "execution_count": 11,
   "metadata": {},
   "outputs": [
    {
     "name": "stdout",
     "output_type": "stream",
     "text": [
      "            day  score\n",
      "0    2022-08-27     83\n",
      "1    2022-08-28     76\n",
      "2    2022-08-29     88\n",
      "3    2022-08-30     77\n",
      "4    2022-08-31     84\n",
      "..          ...    ...\n",
      "127  2023-01-19     76\n",
      "128  2023-01-19     78\n",
      "129  2023-01-20     85\n",
      "130  2023-01-22     78\n",
      "131  2023-01-23     94\n",
      "\n",
      "[132 rows x 2 columns]\n"
     ]
    }
   ],
   "source": [
    "import pandas as pd\n",
    "import json\n",
    "\n",
    "# Read the content of the txt file\n",
    "with open('/sleep.txt', 'r') as file:\n",
    "    content = file.read()\n",
    "\n",
    "# Parse the content as JSON\n",
    "output = json.loads(content)\n",
    "\n",
    "# Extract day, score, and sleep_balance\n",
    "data_list = [\n",
    "    {\n",
    "        \"day\": item[\"day\"],\n",
    "        \"score\": item[\"score\"],\n",
    "    }\n",
    "    for item in output[\"data\"]\n",
    "]\n",
    "\n",
    "# Convert to a pandas DataFrame\n",
    "df = pd.DataFrame(data_list)\n",
    "\n",
    "# Display the table\n",
    "print(df)\n"
   ]
  },
  {
   "cell_type": "code",
   "execution_count": 13,
   "metadata": {},
   "outputs": [
    {
     "name": "stdout",
     "output_type": "stream",
     "text": [
      "DataFrame saved to '/Users/nada/Desktop/Oura_Sleep/sleep.txt'\n"
     ]
    }
   ],
   "source": [
    "\n",
    "# Specify the filename with the desired path\n",
    "filename = '/sleep.txt'\n",
    "\n",
    "# Save the DataFrame to the specified file\n",
    "try:\n",
    "    df.to_csv(filename, sep='\\t', index=False)\n",
    "    print(f\"DataFrame saved to '{filename}'\")\n",
    "except OSError as e:\n",
    "    print(f\"Failed to save the file. Error: {e}\")"
   ]
  }
 ],
 "metadata": {
  "kernelspec": {
   "display_name": "Python 3",
   "language": "python",
   "name": "python3"
  },
  "language_info": {
   "codemirror_mode": {
    "name": "ipython",
    "version": 3
   },
   "file_extension": ".py",
   "mimetype": "text/x-python",
   "name": "python",
   "nbconvert_exporter": "python",
   "pygments_lexer": "ipython3",
   "version": "3.11.2"
  },
  "orig_nbformat": 4
 },
 "nbformat": 4,
 "nbformat_minor": 2
}
