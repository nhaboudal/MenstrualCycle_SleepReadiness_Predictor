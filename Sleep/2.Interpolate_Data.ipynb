{
 "cells": [
  {
   "cell_type": "code",
   "execution_count": 1,
   "metadata": {},
   "outputs": [
    {
     "name": "stdout",
     "output_type": "stream",
     "text": [
      "        date  sleep_score  temperature  phase  cycle  cycle_day\n",
      "0    8/29/22         88.0       96.780      1      1          1\n",
      "1    8/30/22         77.0       96.850      1      1          2\n",
      "2    8/31/22         84.0       96.600      1      1          3\n",
      "3     9/1/22         79.0       97.070      1      1          4\n",
      "4     9/2/22         75.0       96.890      1      1          5\n",
      "..       ...          ...          ...    ...    ...        ...\n",
      "142  1/18/23         89.0       97.770      4      5         24\n",
      "143  1/19/23         76.0       97.540      4      5         25\n",
      "144  1/20/23         78.0       97.270      4      5         26\n",
      "145  1/21/23         78.0       97.115      4      5         27\n",
      "146  1/22/23         78.0       96.960      4      5         28\n",
      "\n",
      "[147 rows x 6 columns]\n"
     ]
    }
   ],
   "source": [
    "import pandas as pd\n",
    "import numpy as np\n",
    "\n",
    "# Load data from CSV\n",
    "file_path = '/Data_Option1.csv'\n",
    "df = pd.read_csv(file_path)\n",
    "\n",
    "# Interpolate missing values for each phase separately\n",
    "for phase in df['phase'].unique():\n",
    "    mask = df['phase'] == phase\n",
    "    \n",
    "    # Interpolate for readiness_score\n",
    "    df.loc[mask, 'sleep_score'] = df.loc[mask, 'sleep_score'].interpolate()\n",
    "    # If there are still NaN values, fill with the mean of the phase for readiness_score\n",
    "    readiness_score_mean = df.loc[mask, 'sleep_score'].mean()\n",
    "    df.loc[mask, 'sleep_score'] = df.loc[mask, 'sleep_score'].fillna(readiness_score_mean)\n",
    "    \n",
    "    # Interpolate for temperature\n",
    "    df.loc[mask, 'temperature'] = df.loc[mask, 'temperature'].interpolate()\n",
    "    # If there are still NaN values, fill with the mean of the phase for temperature\n",
    "    temperature_mean = df.loc[mask, 'temperature'].mean()\n",
    "    df.loc[mask, 'temperature'] = df.loc[mask, 'temperature'].fillna(temperature_mean)\n",
    "\n",
    "# Save the interpolated data back to CSV\n",
    "df.to_csv(file_path, index=False)\n",
    "\n",
    "print(df)"
   ]
  },
  {
   "cell_type": "code",
   "execution_count": 5,
   "metadata": {},
   "outputs": [
    {
     "name": "stdout",
     "output_type": "stream",
     "text": [
      "DataFrame saved to '/Users/nada/Desktop/Oura_Sleep/Oura_Data_Option1_I.csv'\n"
     ]
    }
   ],
   "source": [
    "\n",
    "# Specify the filename with the desired path\n",
    "filename = '/Data_Option1.csv'\n",
    "\n",
    "# Save the DataFrame to the specified file\n",
    "try:\n",
    "    df.to_csv(filename, sep='\\t', index=False)\n",
    "    print(f\"DataFrame saved to '{filename}'\")\n",
    "except OSError as e:\n",
    "    print(f\"Failed to save the file. Error: {e}\")"
   ]
  }
 ],
 "metadata": {
  "kernelspec": {
   "display_name": "Python 3",
   "language": "python",
   "name": "python3"
  },
  "language_info": {
   "codemirror_mode": {
    "name": "ipython",
    "version": 3
   },
   "file_extension": ".py",
   "mimetype": "text/x-python",
   "name": "python",
   "nbconvert_exporter": "python",
   "pygments_lexer": "ipython3",
   "version": "3.11.2"
  },
  "orig_nbformat": 4
 },
 "nbformat": 4,
 "nbformat_minor": 2
}
