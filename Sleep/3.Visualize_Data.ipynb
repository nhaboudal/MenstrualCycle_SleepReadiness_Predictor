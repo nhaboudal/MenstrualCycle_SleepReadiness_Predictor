{
 "cells": [
  {
   "cell_type": "code",
   "execution_count": 2,
   "metadata": {},
   "outputs": [
    {
     "data": {
      "application/vnd.plotly.v1+json": {
       "config": {
        "plotlyServerURL": "https://plot.ly"
       },
       "data": [
        {
         "marker": {
          "color": "blue"
         },
         "mode": "markers",
         "name": "Phase 1 Data",
         "type": "scatter",
         "x": [
          1,
          2,
          3,
          4,
          5,
          6,
          7
         ],
         "xaxis": "x",
         "y": [
          88,
          77,
          84,
          79,
          75,
          86,
          86
         ],
         "yaxis": "y"
        },
        {
         "hovertemplate": "<b>OLS trendline</b><br>sleep_score = 0.107143 * cycle_day + 81.7143<br>R<sup>2</sup>=0.002076<br><br>cycle_day=%{x}<br>sleep_score=%{y} <b>(trend)</b><extra></extra>",
         "legendgroup": "",
         "line": {
          "color": "blue"
         },
         "marker": {
          "color": "#636efa",
          "symbol": "circle"
         },
         "mode": "lines",
         "name": "",
         "showlegend": false,
         "type": "scatter",
         "x": [
          1,
          2,
          3,
          4,
          5,
          6,
          7
         ],
         "xaxis": "x",
         "y": [
          81.82142857142858,
          81.92857142857143,
          82.03571428571429,
          82.14285714285714,
          82.25,
          82.35714285714286,
          82.46428571428571
         ],
         "yaxis": "y"
        },
        {
         "marker": {
          "color": "green"
         },
         "mode": "markers",
         "name": "Phase 2 Data",
         "type": "scatter",
         "x": [
          8,
          9,
          10,
          11,
          12,
          13,
          14,
          15,
          16,
          17,
          18,
          19,
          20,
          21,
          22,
          23
         ],
         "xaxis": "x2",
         "y": [
          81,
          86,
          90,
          83,
          86,
          83,
          85,
          92,
          86,
          79,
          85,
          79,
          91,
          79,
          83,
          86
         ],
         "yaxis": "y2"
        },
        {
         "hovertemplate": "<b>OLS trendline</b><br>sleep_score = -0.111765 * cycle_day + 86.3574<br>R<sup>2</sup>=0.017143<br><br>cycle_day=%{x}<br>sleep_score=%{y} <b>(trend)</b><extra></extra>",
         "legendgroup": "",
         "line": {
          "color": "green"
         },
         "marker": {
          "color": "#636efa",
          "symbol": "circle"
         },
         "mode": "lines",
         "name": "",
         "showlegend": false,
         "type": "scatter",
         "x": [
          8,
          9,
          10,
          11,
          12,
          13,
          14,
          15,
          16,
          17,
          18,
          19,
          20,
          21,
          22,
          23
         ],
         "xaxis": "x2",
         "y": [
          85.46323529411771,
          85.35147058823534,
          85.239705882353,
          85.12794117647063,
          85.01617647058828,
          84.90441176470593,
          84.79264705882356,
          84.68088235294121,
          84.56911764705885,
          84.4573529411765,
          84.34558823529414,
          84.23382352941178,
          84.12205882352943,
          84.01029411764706,
          83.89852941176471,
          83.78676470588235
         ],
         "yaxis": "y2"
        },
        {
         "marker": {
          "color": "purple"
         },
         "mode": "markers",
         "name": "Phase 4 Data",
         "type": "scatter",
         "x": [
          24,
          25,
          26,
          27,
          28,
          29
         ],
         "xaxis": "x3",
         "y": [
          92,
          90,
          83,
          84,
          86,
          84
         ],
         "yaxis": "y3"
        },
        {
         "hovertemplate": "<b>OLS trendline</b><br>sleep_score = -1.45714 * cycle_day + 125.114<br>R<sup>2</sup>=0.550476<br><br>cycle_day=%{x}<br>sleep_score=%{y} <b>(trend)</b><extra></extra>",
         "legendgroup": "",
         "line": {
          "color": "purple"
         },
         "marker": {
          "color": "#636efa",
          "symbol": "circle"
         },
         "mode": "lines",
         "name": "",
         "showlegend": false,
         "type": "scatter",
         "x": [
          24,
          25,
          26,
          27,
          28,
          29
         ],
         "xaxis": "x3",
         "y": [
          90.14285714285714,
          88.68571428571428,
          87.22857142857141,
          85.77142857142854,
          84.31428571428569,
          82.85714285714282
         ],
         "yaxis": "y3"
        },
        {
         "marker": {
          "color": "blue"
         },
         "mode": "markers",
         "name": "Phase 1 Data",
         "type": "scatter",
         "x": [
          1,
          2,
          3,
          4,
          5,
          6,
          7
         ],
         "xaxis": "x4",
         "y": [
          82,
          91,
          92,
          90,
          81,
          91,
          88
         ],
         "yaxis": "y4"
        },
        {
         "hovertemplate": "<b>OLS trendline</b><br>sleep_score = 0.25 * cycle_day + 86.8571<br>R<sup>2</sup>=0.014244<br><br>cycle_day=%{x}<br>sleep_score=%{y} <b>(trend)</b><extra></extra>",
         "legendgroup": "",
         "line": {
          "color": "blue"
         },
         "marker": {
          "color": "#636efa",
          "symbol": "circle"
         },
         "mode": "lines",
         "name": "",
         "showlegend": false,
         "type": "scatter",
         "x": [
          1,
          2,
          3,
          4,
          5,
          6,
          7
         ],
         "xaxis": "x4",
         "y": [
          87.10714285714285,
          87.35714285714283,
          87.60714285714283,
          87.85714285714283,
          88.10714285714282,
          88.35714285714282,
          88.60714285714282
         ],
         "yaxis": "y4"
        },
        {
         "marker": {
          "color": "green"
         },
         "mode": "markers",
         "name": "Phase 2 Data",
         "type": "scatter",
         "x": [
          8,
          9,
          10,
          11,
          12,
          13,
          14,
          15,
          16,
          17,
          18,
          19,
          20
         ],
         "xaxis": "x5",
         "y": [
          89,
          92,
          92,
          88,
          86,
          72,
          92,
          91,
          89,
          81,
          89,
          83,
          80
         ],
         "yaxis": "y5"
        },
        {
         "hovertemplate": "<b>OLS trendline</b><br>sleep_score = -0.587912 * cycle_day + 94.6923<br>R<sup>2</sup>=0.147243<br><br>cycle_day=%{x}<br>sleep_score=%{y} <b>(trend)</b><extra></extra>",
         "legendgroup": "",
         "line": {
          "color": "green"
         },
         "marker": {
          "color": "#636efa",
          "symbol": "circle"
         },
         "mode": "lines",
         "name": "",
         "showlegend": false,
         "type": "scatter",
         "x": [
          8,
          9,
          10,
          11,
          12,
          13,
          14,
          15,
          16,
          17,
          18,
          19,
          20
         ],
         "xaxis": "x5",
         "y": [
          89.98901098901106,
          89.40109890109898,
          88.81318681318689,
          88.2252747252748,
          87.6373626373627,
          87.04945054945061,
          86.46153846153852,
          85.87362637362642,
          85.28571428571433,
          84.69780219780225,
          84.10989010989015,
          83.52197802197806,
          82.93406593406597
         ],
         "yaxis": "y5"
        },
        {
         "marker": {
          "color": "purple"
         },
         "mode": "markers",
         "name": "Phase 4 Data",
         "type": "scatter",
         "x": [
          21,
          22,
          23,
          24,
          25,
          26,
          27,
          28,
          29,
          30,
          31
         ],
         "xaxis": "x6",
         "y": [
          90,
          95,
          90,
          88,
          89,
          83,
          76,
          93,
          84,
          90,
          94
         ],
         "yaxis": "y6"
        },
        {
         "hovertemplate": "<b>OLS trendline</b><br>sleep_score = -0.190909 * cycle_day + 93.3273<br>R<sup>2</sup>=0.013078<br><br>cycle_day=%{x}<br>sleep_score=%{y} <b>(trend)</b><extra></extra>",
         "legendgroup": "",
         "line": {
          "color": "purple"
         },
         "marker": {
          "color": "#636efa",
          "symbol": "circle"
         },
         "mode": "lines",
         "name": "",
         "showlegend": false,
         "type": "scatter",
         "x": [
          21,
          22,
          23,
          24,
          25,
          26,
          27,
          28,
          29,
          30,
          31
         ],
         "xaxis": "x6",
         "y": [
          89.31818181818181,
          89.12727272727273,
          88.93636363636362,
          88.74545454545454,
          88.55454545454545,
          88.36363636363636,
          88.17272727272727,
          87.98181818181818,
          87.7909090909091,
          87.6,
          87.4090909090909
         ],
         "yaxis": "y6"
        },
        {
         "marker": {
          "color": "blue"
         },
         "mode": "markers",
         "name": "Phase 1 Data",
         "type": "scatter",
         "x": [
          1,
          2,
          3,
          4,
          5,
          6,
          7
         ],
         "xaxis": "x7",
         "y": [
          87,
          77,
          69,
          91,
          91,
          87,
          92
         ],
         "yaxis": "y7"
        },
        {
         "hovertemplate": "<b>OLS trendline</b><br>sleep_score = 2.03571 * cycle_day + 76.7143<br>R<sup>2</sup>=0.258514<br><br>cycle_day=%{x}<br>sleep_score=%{y} <b>(trend)</b><extra></extra>",
         "legendgroup": "",
         "line": {
          "color": "blue"
         },
         "marker": {
          "color": "#636efa",
          "symbol": "circle"
         },
         "mode": "lines",
         "name": "",
         "showlegend": false,
         "type": "scatter",
         "x": [
          1,
          2,
          3,
          4,
          5,
          6,
          7
         ],
         "xaxis": "x7",
         "y": [
          78.75,
          80.78571428571428,
          82.82142857142857,
          84.85714285714286,
          86.89285714285715,
          88.92857142857143,
          90.96428571428572
         ],
         "yaxis": "y7"
        },
        {
         "marker": {
          "color": "green"
         },
         "mode": "markers",
         "name": "Phase 2 Data",
         "type": "scatter",
         "x": [
          8,
          9,
          10,
          11,
          12,
          13,
          14,
          15
         ],
         "xaxis": "x8",
         "y": [
          84,
          86,
          90,
          86,
          86,
          82,
          82,
          86
         ],
         "yaxis": "y8"
        },
        {
         "hovertemplate": "<b>OLS trendline</b><br>sleep_score = -0.357143 * cycle_day + 89.3571<br>R<sup>2</sup>=0.112782<br><br>cycle_day=%{x}<br>sleep_score=%{y} <b>(trend)</b><extra></extra>",
         "legendgroup": "",
         "line": {
          "color": "green"
         },
         "marker": {
          "color": "#636efa",
          "symbol": "circle"
         },
         "mode": "lines",
         "name": "",
         "showlegend": false,
         "type": "scatter",
         "x": [
          8,
          9,
          10,
          11,
          12,
          13,
          14,
          15
         ],
         "xaxis": "x8",
         "y": [
          86.49999999999994,
          86.1428571428571,
          85.78571428571423,
          85.42857142857139,
          85.07142857142853,
          84.71428571428568,
          84.35714285714283,
          83.99999999999997
         ],
         "yaxis": "y8"
        },
        {
         "marker": {
          "color": "purple"
         },
         "mode": "markers",
         "name": "Phase 4 Data",
         "type": "scatter",
         "x": [
          16,
          17,
          18,
          19,
          20,
          21,
          22,
          23,
          24,
          25,
          26
         ],
         "xaxis": "x9",
         "y": [
          88,
          56,
          92,
          76,
          73,
          74,
          74,
          75,
          87,
          74,
          87
         ],
         "yaxis": "y9"
        },
        {
         "hovertemplate": "<b>OLS trendline</b><br>sleep_score = 0.463636 * cycle_day + 68.0818<br>R<sup>2</sup>=0.023010<br><br>cycle_day=%{x}<br>sleep_score=%{y} <b>(trend)</b><extra></extra>",
         "legendgroup": "",
         "line": {
          "color": "purple"
         },
         "marker": {
          "color": "#636efa",
          "symbol": "circle"
         },
         "mode": "lines",
         "name": "",
         "showlegend": false,
         "type": "scatter",
         "x": [
          16,
          17,
          18,
          19,
          20,
          21,
          22,
          23,
          24,
          25,
          26
         ],
         "xaxis": "x9",
         "y": [
          75.49999999999996,
          75.96363636363633,
          76.4272727272727,
          76.89090909090906,
          77.35454545454542,
          77.81818181818178,
          78.28181818181815,
          78.74545454545452,
          79.20909090909088,
          79.67272727272724,
          80.13636363636361
         ],
         "yaxis": "y9"
        },
        {
         "marker": {
          "color": "blue"
         },
         "mode": "markers",
         "name": "Phase 1 Data",
         "type": "scatter",
         "x": [
          1,
          2,
          3,
          4,
          5,
          6,
          7
         ],
         "xaxis": "x10",
         "y": [
          91,
          91,
          90,
          90,
          89,
          59,
          72
         ],
         "yaxis": "y10"
        },
        {
         "hovertemplate": "<b>OLS trendline</b><br>sleep_score = -4.35714 * cycle_day + 100.571<br>R<sup>2</sup>=0.554380<br><br>cycle_day=%{x}<br>sleep_score=%{y} <b>(trend)</b><extra></extra>",
         "legendgroup": "",
         "line": {
          "color": "blue"
         },
         "marker": {
          "color": "#636efa",
          "symbol": "circle"
         },
         "mode": "lines",
         "name": "",
         "showlegend": false,
         "type": "scatter",
         "x": [
          1,
          2,
          3,
          4,
          5,
          6,
          7
         ],
         "xaxis": "x10",
         "y": [
          96.21428571428574,
          91.85714285714288,
          87.50000000000003,
          83.14285714285717,
          78.7857142857143,
          74.42857142857144,
          70.07142857142858
         ],
         "yaxis": "y10"
        },
        {
         "marker": {
          "color": "green"
         },
         "mode": "markers",
         "name": "Phase 2 Data",
         "type": "scatter",
         "x": [
          8,
          9,
          10,
          11,
          12,
          13,
          14,
          15,
          16,
          17,
          18,
          19,
          20,
          21
         ],
         "xaxis": "x11",
         "y": [
          96,
          90,
          79,
          89,
          85,
          88,
          88,
          78,
          78,
          79,
          83,
          86,
          92,
          88
         ],
         "yaxis": "y11"
        },
        {
         "hovertemplate": "<b>OLS trendline</b><br>sleep_score = -0.287912 * cycle_day + 89.8176<br>R<sup>2</sup>=0.046310<br><br>cycle_day=%{x}<br>sleep_score=%{y} <b>(trend)</b><extra></extra>",
         "legendgroup": "",
         "line": {
          "color": "green"
         },
         "marker": {
          "color": "#636efa",
          "symbol": "circle"
         },
         "mode": "lines",
         "name": "",
         "showlegend": false,
         "type": "scatter",
         "x": [
          8,
          9,
          10,
          11,
          12,
          13,
          14,
          15,
          16,
          17,
          18,
          19,
          20,
          21
         ],
         "xaxis": "x11",
         "y": [
          87.51428571428572,
          87.22637362637363,
          86.93846153846154,
          86.65054945054945,
          86.36263736263737,
          86.07472527472528,
          85.78681318681319,
          85.4989010989011,
          85.21098901098902,
          84.92307692307693,
          84.63516483516484,
          84.34725274725275,
          84.05934065934068,
          83.77142857142859
         ],
         "yaxis": "y11"
        },
        {
         "marker": {
          "color": "purple"
         },
         "mode": "markers",
         "name": "Phase 4 Data",
         "type": "scatter",
         "x": [
          22,
          23,
          24,
          25,
          26,
          27,
          28,
          29,
          30,
          31,
          32,
          33
         ],
         "xaxis": "x12",
         "y": [
          91,
          86,
          87,
          83,
          82,
          85,
          82,
          90,
          75,
          74,
          86,
          81
         ],
         "yaxis": "y12"
        },
        {
         "hovertemplate": "<b>OLS trendline</b><br>sleep_score = -0.769231 * cycle_day + 104.654<br>R<sup>2</sup>=0.282995<br><br>cycle_day=%{x}<br>sleep_score=%{y} <b>(trend)</b><extra></extra>",
         "legendgroup": "",
         "line": {
          "color": "purple"
         },
         "marker": {
          "color": "#636efa",
          "symbol": "circle"
         },
         "mode": "lines",
         "name": "",
         "showlegend": false,
         "type": "scatter",
         "x": [
          22,
          23,
          24,
          25,
          26,
          27,
          28,
          29,
          30,
          31,
          32,
          33
         ],
         "xaxis": "x12",
         "y": [
          87.73076923076933,
          86.96153846153855,
          86.19230769230778,
          85.42307692307702,
          84.65384615384625,
          83.88461538461547,
          83.1153846153847,
          82.34615384615394,
          81.57692307692317,
          80.80769230769239,
          80.03846153846163,
          79.26923076923086
         ],
         "yaxis": "y12"
        },
        {
         "marker": {
          "color": "blue"
         },
         "mode": "markers",
         "name": "Phase 1 Data",
         "type": "scatter",
         "x": [
          1,
          2,
          3,
          4,
          5,
          6,
          7
         ],
         "xaxis": "x13",
         "y": [
          85,
          77,
          82,
          87,
          93,
          86,
          86
         ],
         "yaxis": "y13"
        },
        {
         "hovertemplate": "<b>OLS trendline</b><br>sleep_score = 1.14286 * cycle_day + 80.5714<br>R<sup>2</sup>=0.256000<br><br>cycle_day=%{x}<br>sleep_score=%{y} <b>(trend)</b><extra></extra>",
         "legendgroup": "",
         "line": {
          "color": "blue"
         },
         "marker": {
          "color": "#636efa",
          "symbol": "circle"
         },
         "mode": "lines",
         "name": "",
         "showlegend": false,
         "type": "scatter",
         "x": [
          1,
          2,
          3,
          4,
          5,
          6,
          7
         ],
         "xaxis": "x13",
         "y": [
          81.71428571428572,
          82.85714285714286,
          84,
          85.14285714285714,
          86.28571428571429,
          87.42857142857143,
          88.57142857142857
         ],
         "yaxis": "y13"
        },
        {
         "marker": {
          "color": "green"
         },
         "mode": "markers",
         "name": "Phase 2 Data",
         "type": "scatter",
         "x": [
          8,
          9,
          10,
          11,
          12,
          13,
          14,
          15,
          16,
          17,
          18,
          19,
          20
         ],
         "xaxis": "x14",
         "y": [
          90,
          92,
          94,
          88,
          82,
          68,
          70,
          72,
          91,
          79,
          79,
          79,
          79
         ],
         "yaxis": "y14"
        },
        {
         "hovertemplate": "<b>OLS trendline</b><br>sleep_score = -1.07692 * cycle_day + 96.8462<br>R<sup>2</sup>=0.234450<br><br>cycle_day=%{x}<br>sleep_score=%{y} <b>(trend)</b><extra></extra>",
         "legendgroup": "",
         "line": {
          "color": "green"
         },
         "marker": {
          "color": "#636efa",
          "symbol": "circle"
         },
         "mode": "lines",
         "name": "",
         "showlegend": false,
         "type": "scatter",
         "x": [
          8,
          9,
          10,
          11,
          12,
          13,
          14,
          15,
          16,
          17,
          18,
          19,
          20
         ],
         "xaxis": "x14",
         "y": [
          88.23076923076933,
          87.15384615384625,
          86.07692307692317,
          85.00000000000009,
          83.923076923077,
          82.84615384615392,
          81.76923076923083,
          80.69230769230775,
          79.61538461538467,
          78.53846153846159,
          77.46153846153851,
          76.38461538461543,
          75.30769230769235
         ],
         "yaxis": "y14"
        },
        {
         "marker": {
          "color": "purple"
         },
         "mode": "markers",
         "name": "Phase 4 Data",
         "type": "scatter",
         "x": [
          21,
          22,
          23,
          24,
          25,
          26,
          27,
          28
         ],
         "xaxis": "x15",
         "y": [
          84,
          86,
          90,
          89,
          76,
          78,
          78,
          78
         ],
         "yaxis": "y15"
        },
        {
         "hovertemplate": "<b>OLS trendline</b><br>sleep_score = -1.55952 * cycle_day + 120.583<br>R<sup>2</sup>=0.473185<br><br>cycle_day=%{x}<br>sleep_score=%{y} <b>(trend)</b><extra></extra>",
         "legendgroup": "",
         "line": {
          "color": "purple"
         },
         "marker": {
          "color": "#636efa",
          "symbol": "circle"
         },
         "mode": "lines",
         "name": "",
         "showlegend": false,
         "type": "scatter",
         "x": [
          21,
          22,
          23,
          24,
          25,
          26,
          27,
          28
         ],
         "xaxis": "x15",
         "y": [
          87.83333333333327,
          86.27380952380946,
          84.71428571428567,
          83.15476190476186,
          81.59523809523806,
          80.03571428571425,
          78.47619047619045,
          76.91666666666664
         ],
         "yaxis": "y15"
        }
       ],
       "layout": {
        "annotations": [
         {
          "font": {
           "size": 16
          },
          "showarrow": false,
          "text": "Cycle 1 - Phase 1",
          "x": 0.14444444444444446,
          "xanchor": "center",
          "xref": "paper",
          "y": 1,
          "yanchor": "bottom",
          "yref": "paper"
         },
         {
          "font": {
           "size": 16
          },
          "showarrow": false,
          "text": "Cycle 1 - Phase 2",
          "x": 0.5,
          "xanchor": "center",
          "xref": "paper",
          "y": 1,
          "yanchor": "bottom",
          "yref": "paper"
         },
         {
          "font": {
           "size": 16
          },
          "showarrow": false,
          "text": "Cycle 1 - Phase 4",
          "x": 0.8555555555555556,
          "xanchor": "center",
          "xref": "paper",
          "y": 1,
          "yanchor": "bottom",
          "yref": "paper"
         },
         {
          "font": {
           "size": 16
          },
          "showarrow": false,
          "text": "Cycle 2 - Phase 1",
          "x": 0.14444444444444446,
          "xanchor": "center",
          "xref": "paper",
          "y": 0.78,
          "yanchor": "bottom",
          "yref": "paper"
         },
         {
          "font": {
           "size": 16
          },
          "showarrow": false,
          "text": "Cycle 2 - Phase 2",
          "x": 0.5,
          "xanchor": "center",
          "xref": "paper",
          "y": 0.78,
          "yanchor": "bottom",
          "yref": "paper"
         },
         {
          "font": {
           "size": 16
          },
          "showarrow": false,
          "text": "Cycle 2 - Phase 4",
          "x": 0.8555555555555556,
          "xanchor": "center",
          "xref": "paper",
          "y": 0.78,
          "yanchor": "bottom",
          "yref": "paper"
         },
         {
          "font": {
           "size": 16
          },
          "showarrow": false,
          "text": "Cycle 3 - Phase 1",
          "x": 0.14444444444444446,
          "xanchor": "center",
          "xref": "paper",
          "y": 0.56,
          "yanchor": "bottom",
          "yref": "paper"
         },
         {
          "font": {
           "size": 16
          },
          "showarrow": false,
          "text": "Cycle 3 - Phase 2",
          "x": 0.5,
          "xanchor": "center",
          "xref": "paper",
          "y": 0.56,
          "yanchor": "bottom",
          "yref": "paper"
         },
         {
          "font": {
           "size": 16
          },
          "showarrow": false,
          "text": "Cycle 3 - Phase 4",
          "x": 0.8555555555555556,
          "xanchor": "center",
          "xref": "paper",
          "y": 0.56,
          "yanchor": "bottom",
          "yref": "paper"
         },
         {
          "font": {
           "size": 16
          },
          "showarrow": false,
          "text": "Cycle 4 - Phase 1",
          "x": 0.14444444444444446,
          "xanchor": "center",
          "xref": "paper",
          "y": 0.33999999999999997,
          "yanchor": "bottom",
          "yref": "paper"
         },
         {
          "font": {
           "size": 16
          },
          "showarrow": false,
          "text": "Cycle 4 - Phase 2",
          "x": 0.5,
          "xanchor": "center",
          "xref": "paper",
          "y": 0.33999999999999997,
          "yanchor": "bottom",
          "yref": "paper"
         },
         {
          "font": {
           "size": 16
          },
          "showarrow": false,
          "text": "Cycle 4 - Phase 4",
          "x": 0.8555555555555556,
          "xanchor": "center",
          "xref": "paper",
          "y": 0.33999999999999997,
          "yanchor": "bottom",
          "yref": "paper"
         },
         {
          "font": {
           "size": 16
          },
          "showarrow": false,
          "text": "Cycle 5 - Phase 1",
          "x": 0.14444444444444446,
          "xanchor": "center",
          "xref": "paper",
          "y": 0.12,
          "yanchor": "bottom",
          "yref": "paper"
         },
         {
          "font": {
           "size": 16
          },
          "showarrow": false,
          "text": "Cycle 5 - Phase 2",
          "x": 0.5,
          "xanchor": "center",
          "xref": "paper",
          "y": 0.12,
          "yanchor": "bottom",
          "yref": "paper"
         },
         {
          "font": {
           "size": 16
          },
          "showarrow": false,
          "text": "Cycle 5 - Phase 4",
          "x": 0.8555555555555556,
          "xanchor": "center",
          "xref": "paper",
          "y": 0.12,
          "yanchor": "bottom",
          "yref": "paper"
         }
        ],
        "height": 1500,
        "template": {
         "data": {
          "bar": [
           {
            "error_x": {
             "color": "#2a3f5f"
            },
            "error_y": {
             "color": "#2a3f5f"
            },
            "marker": {
             "line": {
              "color": "#E5ECF6",
              "width": 0.5
             },
             "pattern": {
              "fillmode": "overlay",
              "size": 10,
              "solidity": 0.2
             }
            },
            "type": "bar"
           }
          ],
          "barpolar": [
           {
            "marker": {
             "line": {
              "color": "#E5ECF6",
              "width": 0.5
             },
             "pattern": {
              "fillmode": "overlay",
              "size": 10,
              "solidity": 0.2
             }
            },
            "type": "barpolar"
           }
          ],
          "carpet": [
           {
            "aaxis": {
             "endlinecolor": "#2a3f5f",
             "gridcolor": "white",
             "linecolor": "white",
             "minorgridcolor": "white",
             "startlinecolor": "#2a3f5f"
            },
            "baxis": {
             "endlinecolor": "#2a3f5f",
             "gridcolor": "white",
             "linecolor": "white",
             "minorgridcolor": "white",
             "startlinecolor": "#2a3f5f"
            },
            "type": "carpet"
           }
          ],
          "choropleth": [
           {
            "colorbar": {
             "outlinewidth": 0,
             "ticks": ""
            },
            "type": "choropleth"
           }
          ],
          "contour": [
           {
            "colorbar": {
             "outlinewidth": 0,
             "ticks": ""
            },
            "colorscale": [
             [
              0,
              "#0d0887"
             ],
             [
              0.1111111111111111,
              "#46039f"
             ],
             [
              0.2222222222222222,
              "#7201a8"
             ],
             [
              0.3333333333333333,
              "#9c179e"
             ],
             [
              0.4444444444444444,
              "#bd3786"
             ],
             [
              0.5555555555555556,
              "#d8576b"
             ],
             [
              0.6666666666666666,
              "#ed7953"
             ],
             [
              0.7777777777777778,
              "#fb9f3a"
             ],
             [
              0.8888888888888888,
              "#fdca26"
             ],
             [
              1,
              "#f0f921"
             ]
            ],
            "type": "contour"
           }
          ],
          "contourcarpet": [
           {
            "colorbar": {
             "outlinewidth": 0,
             "ticks": ""
            },
            "type": "contourcarpet"
           }
          ],
          "heatmap": [
           {
            "colorbar": {
             "outlinewidth": 0,
             "ticks": ""
            },
            "colorscale": [
             [
              0,
              "#0d0887"
             ],
             [
              0.1111111111111111,
              "#46039f"
             ],
             [
              0.2222222222222222,
              "#7201a8"
             ],
             [
              0.3333333333333333,
              "#9c179e"
             ],
             [
              0.4444444444444444,
              "#bd3786"
             ],
             [
              0.5555555555555556,
              "#d8576b"
             ],
             [
              0.6666666666666666,
              "#ed7953"
             ],
             [
              0.7777777777777778,
              "#fb9f3a"
             ],
             [
              0.8888888888888888,
              "#fdca26"
             ],
             [
              1,
              "#f0f921"
             ]
            ],
            "type": "heatmap"
           }
          ],
          "heatmapgl": [
           {
            "colorbar": {
             "outlinewidth": 0,
             "ticks": ""
            },
            "colorscale": [
             [
              0,
              "#0d0887"
             ],
             [
              0.1111111111111111,
              "#46039f"
             ],
             [
              0.2222222222222222,
              "#7201a8"
             ],
             [
              0.3333333333333333,
              "#9c179e"
             ],
             [
              0.4444444444444444,
              "#bd3786"
             ],
             [
              0.5555555555555556,
              "#d8576b"
             ],
             [
              0.6666666666666666,
              "#ed7953"
             ],
             [
              0.7777777777777778,
              "#fb9f3a"
             ],
             [
              0.8888888888888888,
              "#fdca26"
             ],
             [
              1,
              "#f0f921"
             ]
            ],
            "type": "heatmapgl"
           }
          ],
          "histogram": [
           {
            "marker": {
             "pattern": {
              "fillmode": "overlay",
              "size": 10,
              "solidity": 0.2
             }
            },
            "type": "histogram"
           }
          ],
          "histogram2d": [
           {
            "colorbar": {
             "outlinewidth": 0,
             "ticks": ""
            },
            "colorscale": [
             [
              0,
              "#0d0887"
             ],
             [
              0.1111111111111111,
              "#46039f"
             ],
             [
              0.2222222222222222,
              "#7201a8"
             ],
             [
              0.3333333333333333,
              "#9c179e"
             ],
             [
              0.4444444444444444,
              "#bd3786"
             ],
             [
              0.5555555555555556,
              "#d8576b"
             ],
             [
              0.6666666666666666,
              "#ed7953"
             ],
             [
              0.7777777777777778,
              "#fb9f3a"
             ],
             [
              0.8888888888888888,
              "#fdca26"
             ],
             [
              1,
              "#f0f921"
             ]
            ],
            "type": "histogram2d"
           }
          ],
          "histogram2dcontour": [
           {
            "colorbar": {
             "outlinewidth": 0,
             "ticks": ""
            },
            "colorscale": [
             [
              0,
              "#0d0887"
             ],
             [
              0.1111111111111111,
              "#46039f"
             ],
             [
              0.2222222222222222,
              "#7201a8"
             ],
             [
              0.3333333333333333,
              "#9c179e"
             ],
             [
              0.4444444444444444,
              "#bd3786"
             ],
             [
              0.5555555555555556,
              "#d8576b"
             ],
             [
              0.6666666666666666,
              "#ed7953"
             ],
             [
              0.7777777777777778,
              "#fb9f3a"
             ],
             [
              0.8888888888888888,
              "#fdca26"
             ],
             [
              1,
              "#f0f921"
             ]
            ],
            "type": "histogram2dcontour"
           }
          ],
          "mesh3d": [
           {
            "colorbar": {
             "outlinewidth": 0,
             "ticks": ""
            },
            "type": "mesh3d"
           }
          ],
          "parcoords": [
           {
            "line": {
             "colorbar": {
              "outlinewidth": 0,
              "ticks": ""
             }
            },
            "type": "parcoords"
           }
          ],
          "pie": [
           {
            "automargin": true,
            "type": "pie"
           }
          ],
          "scatter": [
           {
            "fillpattern": {
             "fillmode": "overlay",
             "size": 10,
             "solidity": 0.2
            },
            "type": "scatter"
           }
          ],
          "scatter3d": [
           {
            "line": {
             "colorbar": {
              "outlinewidth": 0,
              "ticks": ""
             }
            },
            "marker": {
             "colorbar": {
              "outlinewidth": 0,
              "ticks": ""
             }
            },
            "type": "scatter3d"
           }
          ],
          "scattercarpet": [
           {
            "marker": {
             "colorbar": {
              "outlinewidth": 0,
              "ticks": ""
             }
            },
            "type": "scattercarpet"
           }
          ],
          "scattergeo": [
           {
            "marker": {
             "colorbar": {
              "outlinewidth": 0,
              "ticks": ""
             }
            },
            "type": "scattergeo"
           }
          ],
          "scattergl": [
           {
            "marker": {
             "colorbar": {
              "outlinewidth": 0,
              "ticks": ""
             }
            },
            "type": "scattergl"
           }
          ],
          "scattermapbox": [
           {
            "marker": {
             "colorbar": {
              "outlinewidth": 0,
              "ticks": ""
             }
            },
            "type": "scattermapbox"
           }
          ],
          "scatterpolar": [
           {
            "marker": {
             "colorbar": {
              "outlinewidth": 0,
              "ticks": ""
             }
            },
            "type": "scatterpolar"
           }
          ],
          "scatterpolargl": [
           {
            "marker": {
             "colorbar": {
              "outlinewidth": 0,
              "ticks": ""
             }
            },
            "type": "scatterpolargl"
           }
          ],
          "scatterternary": [
           {
            "marker": {
             "colorbar": {
              "outlinewidth": 0,
              "ticks": ""
             }
            },
            "type": "scatterternary"
           }
          ],
          "surface": [
           {
            "colorbar": {
             "outlinewidth": 0,
             "ticks": ""
            },
            "colorscale": [
             [
              0,
              "#0d0887"
             ],
             [
              0.1111111111111111,
              "#46039f"
             ],
             [
              0.2222222222222222,
              "#7201a8"
             ],
             [
              0.3333333333333333,
              "#9c179e"
             ],
             [
              0.4444444444444444,
              "#bd3786"
             ],
             [
              0.5555555555555556,
              "#d8576b"
             ],
             [
              0.6666666666666666,
              "#ed7953"
             ],
             [
              0.7777777777777778,
              "#fb9f3a"
             ],
             [
              0.8888888888888888,
              "#fdca26"
             ],
             [
              1,
              "#f0f921"
             ]
            ],
            "type": "surface"
           }
          ],
          "table": [
           {
            "cells": {
             "fill": {
              "color": "#EBF0F8"
             },
             "line": {
              "color": "white"
             }
            },
            "header": {
             "fill": {
              "color": "#C8D4E3"
             },
             "line": {
              "color": "white"
             }
            },
            "type": "table"
           }
          ]
         },
         "layout": {
          "annotationdefaults": {
           "arrowcolor": "#2a3f5f",
           "arrowhead": 0,
           "arrowwidth": 1
          },
          "autotypenumbers": "strict",
          "coloraxis": {
           "colorbar": {
            "outlinewidth": 0,
            "ticks": ""
           }
          },
          "colorscale": {
           "diverging": [
            [
             0,
             "#8e0152"
            ],
            [
             0.1,
             "#c51b7d"
            ],
            [
             0.2,
             "#de77ae"
            ],
            [
             0.3,
             "#f1b6da"
            ],
            [
             0.4,
             "#fde0ef"
            ],
            [
             0.5,
             "#f7f7f7"
            ],
            [
             0.6,
             "#e6f5d0"
            ],
            [
             0.7,
             "#b8e186"
            ],
            [
             0.8,
             "#7fbc41"
            ],
            [
             0.9,
             "#4d9221"
            ],
            [
             1,
             "#276419"
            ]
           ],
           "sequential": [
            [
             0,
             "#0d0887"
            ],
            [
             0.1111111111111111,
             "#46039f"
            ],
            [
             0.2222222222222222,
             "#7201a8"
            ],
            [
             0.3333333333333333,
             "#9c179e"
            ],
            [
             0.4444444444444444,
             "#bd3786"
            ],
            [
             0.5555555555555556,
             "#d8576b"
            ],
            [
             0.6666666666666666,
             "#ed7953"
            ],
            [
             0.7777777777777778,
             "#fb9f3a"
            ],
            [
             0.8888888888888888,
             "#fdca26"
            ],
            [
             1,
             "#f0f921"
            ]
           ],
           "sequentialminus": [
            [
             0,
             "#0d0887"
            ],
            [
             0.1111111111111111,
             "#46039f"
            ],
            [
             0.2222222222222222,
             "#7201a8"
            ],
            [
             0.3333333333333333,
             "#9c179e"
            ],
            [
             0.4444444444444444,
             "#bd3786"
            ],
            [
             0.5555555555555556,
             "#d8576b"
            ],
            [
             0.6666666666666666,
             "#ed7953"
            ],
            [
             0.7777777777777778,
             "#fb9f3a"
            ],
            [
             0.8888888888888888,
             "#fdca26"
            ],
            [
             1,
             "#f0f921"
            ]
           ]
          },
          "colorway": [
           "#636efa",
           "#EF553B",
           "#00cc96",
           "#ab63fa",
           "#FFA15A",
           "#19d3f3",
           "#FF6692",
           "#B6E880",
           "#FF97FF",
           "#FECB52"
          ],
          "font": {
           "color": "#2a3f5f"
          },
          "geo": {
           "bgcolor": "white",
           "lakecolor": "white",
           "landcolor": "#E5ECF6",
           "showlakes": true,
           "showland": true,
           "subunitcolor": "white"
          },
          "hoverlabel": {
           "align": "left"
          },
          "hovermode": "closest",
          "mapbox": {
           "style": "light"
          },
          "paper_bgcolor": "white",
          "plot_bgcolor": "#E5ECF6",
          "polar": {
           "angularaxis": {
            "gridcolor": "white",
            "linecolor": "white",
            "ticks": ""
           },
           "bgcolor": "#E5ECF6",
           "radialaxis": {
            "gridcolor": "white",
            "linecolor": "white",
            "ticks": ""
           }
          },
          "scene": {
           "xaxis": {
            "backgroundcolor": "#E5ECF6",
            "gridcolor": "white",
            "gridwidth": 2,
            "linecolor": "white",
            "showbackground": true,
            "ticks": "",
            "zerolinecolor": "white"
           },
           "yaxis": {
            "backgroundcolor": "#E5ECF6",
            "gridcolor": "white",
            "gridwidth": 2,
            "linecolor": "white",
            "showbackground": true,
            "ticks": "",
            "zerolinecolor": "white"
           },
           "zaxis": {
            "backgroundcolor": "#E5ECF6",
            "gridcolor": "white",
            "gridwidth": 2,
            "linecolor": "white",
            "showbackground": true,
            "ticks": "",
            "zerolinecolor": "white"
           }
          },
          "shapedefaults": {
           "line": {
            "color": "#2a3f5f"
           }
          },
          "ternary": {
           "aaxis": {
            "gridcolor": "white",
            "linecolor": "white",
            "ticks": ""
           },
           "baxis": {
            "gridcolor": "white",
            "linecolor": "white",
            "ticks": ""
           },
           "bgcolor": "#E5ECF6",
           "caxis": {
            "gridcolor": "white",
            "linecolor": "white",
            "ticks": ""
           }
          },
          "title": {
           "x": 0.05
          },
          "xaxis": {
           "automargin": true,
           "gridcolor": "white",
           "linecolor": "white",
           "ticks": "",
           "title": {
            "standoff": 15
           },
           "zerolinecolor": "white",
           "zerolinewidth": 2
          },
          "yaxis": {
           "automargin": true,
           "gridcolor": "white",
           "linecolor": "white",
           "ticks": "",
           "title": {
            "standoff": 15
           },
           "zerolinecolor": "white",
           "zerolinewidth": 2
          }
         }
        },
        "title": {
         "text": "Sleep Score by Cycle Day for Each Cycle and Phase"
        },
        "xaxis": {
         "anchor": "y",
         "domain": [
          0,
          0.2888888888888889
         ],
         "matches": "x13",
         "showticklabels": false
        },
        "xaxis10": {
         "anchor": "y10",
         "domain": [
          0,
          0.2888888888888889
         ],
         "matches": "x13",
         "showticklabels": false
        },
        "xaxis11": {
         "anchor": "y11",
         "domain": [
          0.35555555555555557,
          0.6444444444444445
         ],
         "matches": "x14",
         "showticklabels": false
        },
        "xaxis12": {
         "anchor": "y12",
         "domain": [
          0.7111111111111111,
          1
         ],
         "matches": "x15",
         "showticklabels": false
        },
        "xaxis13": {
         "anchor": "y13",
         "domain": [
          0,
          0.2888888888888889
         ]
        },
        "xaxis14": {
         "anchor": "y14",
         "domain": [
          0.35555555555555557,
          0.6444444444444445
         ]
        },
        "xaxis15": {
         "anchor": "y15",
         "domain": [
          0.7111111111111111,
          1
         ]
        },
        "xaxis2": {
         "anchor": "y2",
         "domain": [
          0.35555555555555557,
          0.6444444444444445
         ],
         "matches": "x14",
         "showticklabels": false
        },
        "xaxis3": {
         "anchor": "y3",
         "domain": [
          0.7111111111111111,
          1
         ],
         "matches": "x15",
         "showticklabels": false
        },
        "xaxis4": {
         "anchor": "y4",
         "domain": [
          0,
          0.2888888888888889
         ],
         "matches": "x13",
         "showticklabels": false
        },
        "xaxis5": {
         "anchor": "y5",
         "domain": [
          0.35555555555555557,
          0.6444444444444445
         ],
         "matches": "x14",
         "showticklabels": false
        },
        "xaxis6": {
         "anchor": "y6",
         "domain": [
          0.7111111111111111,
          1
         ],
         "matches": "x15",
         "showticklabels": false
        },
        "xaxis7": {
         "anchor": "y7",
         "domain": [
          0,
          0.2888888888888889
         ],
         "matches": "x13",
         "showticklabels": false
        },
        "xaxis8": {
         "anchor": "y8",
         "domain": [
          0.35555555555555557,
          0.6444444444444445
         ],
         "matches": "x14",
         "showticklabels": false
        },
        "xaxis9": {
         "anchor": "y9",
         "domain": [
          0.7111111111111111,
          1
         ],
         "matches": "x15",
         "showticklabels": false
        },
        "yaxis": {
         "anchor": "x",
         "domain": [
          0.88,
          1
         ]
        },
        "yaxis10": {
         "anchor": "x10",
         "domain": [
          0.22,
          0.33999999999999997
         ]
        },
        "yaxis11": {
         "anchor": "x11",
         "domain": [
          0.22,
          0.33999999999999997
         ],
         "matches": "y10",
         "showticklabels": false
        },
        "yaxis12": {
         "anchor": "x12",
         "domain": [
          0.22,
          0.33999999999999997
         ],
         "matches": "y10",
         "showticklabels": false
        },
        "yaxis13": {
         "anchor": "x13",
         "domain": [
          0,
          0.12
         ]
        },
        "yaxis14": {
         "anchor": "x14",
         "domain": [
          0,
          0.12
         ],
         "matches": "y13",
         "showticklabels": false
        },
        "yaxis15": {
         "anchor": "x15",
         "domain": [
          0,
          0.12
         ],
         "matches": "y13",
         "showticklabels": false
        },
        "yaxis2": {
         "anchor": "x2",
         "domain": [
          0.88,
          1
         ],
         "matches": "y",
         "showticklabels": false
        },
        "yaxis3": {
         "anchor": "x3",
         "domain": [
          0.88,
          1
         ],
         "matches": "y",
         "showticklabels": false
        },
        "yaxis4": {
         "anchor": "x4",
         "domain": [
          0.66,
          0.78
         ]
        },
        "yaxis5": {
         "anchor": "x5",
         "domain": [
          0.66,
          0.78
         ],
         "matches": "y4",
         "showticklabels": false
        },
        "yaxis6": {
         "anchor": "x6",
         "domain": [
          0.66,
          0.78
         ],
         "matches": "y4",
         "showticklabels": false
        },
        "yaxis7": {
         "anchor": "x7",
         "domain": [
          0.44,
          0.56
         ]
        },
        "yaxis8": {
         "anchor": "x8",
         "domain": [
          0.44,
          0.56
         ],
         "matches": "y7",
         "showticklabels": false
        },
        "yaxis9": {
         "anchor": "x9",
         "domain": [
          0.44,
          0.56
         ],
         "matches": "y7",
         "showticklabels": false
        }
       }
      }
     },
     "metadata": {},
     "output_type": "display_data"
    }
   ],
   "source": [
    "import pandas as pd\n",
    "import plotly.graph_objects as go\n",
    "import plotly.express as px\n",
    "from plotly.subplots import make_subplots\n",
    "\n",
    "# Load data from CSV\n",
    "file_path = '/Data_Option1.csv'  # Replace with the path to your CSV file\n",
    "df = pd.read_csv(file_path)\n",
    "\n",
    "# Create a dictionary to store dataframes for each phase and cycle combination\n",
    "dfs = {}\n",
    "\n",
    "# Group by phase and cycle and store each group in the dictionary\n",
    "for (phase, cycle), group_df in df.groupby(['phase', 'cycle']):\n",
    "    # Extract relevant columns\n",
    "    subset_df = group_df[['cycle_day', 'sleep_score', 'phase', 'cycle']]\n",
    "    dfs[(phase, cycle)] = subset_df\n",
    "\n",
    "# Define a color map for phases\n",
    "phase_colors = {\n",
    "    1: 'blue',\n",
    "    2: 'green',\n",
    "    3: 'red',\n",
    "    4: 'purple'\n",
    "    # Add more colors if there are more phases\n",
    "}\n",
    "\n",
    "# Create subplots for each cycle and phase combination\n",
    "unique_cycles = df['cycle'].unique()\n",
    "unique_phases = df['phase'].unique()\n",
    "num_cycles = len(unique_cycles)\n",
    "num_phases = len(unique_phases)\n",
    "fig = make_subplots(rows=num_cycles, cols=num_phases, shared_xaxes=True, shared_yaxes=True,\n",
    "                    subplot_titles=[f'Cycle {cycle} - Phase {phase}' for cycle in unique_cycles for phase in unique_phases])\n",
    "\n",
    "# Plot data for each cycle and phase combination\n",
    "for cycle_idx, cycle in enumerate(unique_cycles, start=1):\n",
    "    for phase_idx, phase in enumerate(unique_phases, start=1):\n",
    "        data = dfs.get((phase, cycle))\n",
    "        if data is not None:\n",
    "            scatter = go.Scatter(x=data['cycle_day'], y=data['sleep_score'], mode='markers', name=f'Phase {phase} Data', marker=dict(color=phase_colors[phase]))\n",
    "            trendline = px.scatter(data, x='cycle_day', y='sleep_score', trendline=\"ols\").data[1]\n",
    "            trendline['line']['color'] = phase_colors[phase]\n",
    "            fig.add_trace(scatter, row=cycle_idx, col=phase_idx)\n",
    "            fig.add_trace(trendline, row=cycle_idx, col=phase_idx)\n",
    "\n",
    "# Update layout and show the plot\n",
    "fig.update_layout(title='Sleep Score by Cycle Day for Each Cycle and Phase', height=300*num_cycles)\n",
    "fig.show()\n"
   ]
  },
  {
   "cell_type": "code",
   "execution_count": 3,
   "metadata": {},
   "outputs": [
    {
     "data": {
      "application/vnd.plotly.v1+json": {
       "config": {
        "plotlyServerURL": "https://plot.ly"
       },
       "data": [
        {
         "marker": {
          "color": "blue"
         },
         "mode": "markers",
         "name": "Phase 1 Data",
         "type": "scatter",
         "x": [
          1,
          2,
          3,
          4,
          5,
          6,
          7,
          8,
          9,
          10,
          11,
          12,
          13,
          14,
          15,
          16,
          17,
          18,
          19,
          20,
          21,
          22,
          23
         ],
         "xaxis": "x",
         "y": [
          88,
          77,
          84,
          79,
          75,
          86,
          86,
          81,
          86,
          90,
          83,
          86,
          83,
          85,
          92,
          86,
          79,
          85,
          79,
          91,
          79,
          83,
          86
         ],
         "yaxis": "y"
        },
        {
         "hovertemplate": "<b>OLS trendline</b><br>sleep_score = 0.102767 * cycle_day + 82.6364<br>R<sup>2</sup>=0.024705<br><br>cycle_day=%{x}<br>sleep_score=%{y} <b>(trend)</b><extra></extra>",
         "legendgroup": "",
         "line": {
          "color": "blue"
         },
         "marker": {
          "color": "#636efa",
          "symbol": "circle"
         },
         "mode": "lines",
         "name": "",
         "showlegend": false,
         "type": "scatter",
         "x": [
          1,
          2,
          3,
          4,
          5,
          6,
          7,
          8,
          9,
          10,
          11,
          12,
          13,
          14,
          15,
          16,
          17,
          18,
          19,
          20,
          21,
          22,
          23
         ],
         "xaxis": "x",
         "y": [
          82.73913043478262,
          82.84189723320159,
          82.94466403162058,
          83.04743083003954,
          83.15019762845851,
          83.25296442687748,
          83.35573122529647,
          83.45849802371544,
          83.5612648221344,
          83.66403162055337,
          83.76679841897234,
          83.86956521739133,
          83.9723320158103,
          84.07509881422926,
          84.17786561264823,
          84.2806324110672,
          84.38339920948619,
          84.48616600790515,
          84.58893280632412,
          84.69169960474309,
          84.79446640316208,
          84.89723320158105,
          85.00000000000001
         ],
         "yaxis": "y"
        },
        {
         "marker": {
          "color": "purple"
         },
         "mode": "markers",
         "name": "Phase 4 Data",
         "type": "scatter",
         "x": [
          24,
          25,
          26,
          27,
          28,
          29
         ],
         "xaxis": "x2",
         "y": [
          92,
          90,
          83,
          84,
          86,
          84
         ],
         "yaxis": "y2"
        },
        {
         "hovertemplate": "<b>OLS trendline</b><br>sleep_score = -1.45714 * cycle_day + 125.114<br>R<sup>2</sup>=0.550476<br><br>cycle_day=%{x}<br>sleep_score=%{y} <b>(trend)</b><extra></extra>",
         "legendgroup": "",
         "line": {
          "color": "purple"
         },
         "marker": {
          "color": "#636efa",
          "symbol": "circle"
         },
         "mode": "lines",
         "name": "",
         "showlegend": false,
         "type": "scatter",
         "x": [
          24,
          25,
          26,
          27,
          28,
          29
         ],
         "xaxis": "x2",
         "y": [
          90.14285714285714,
          88.68571428571428,
          87.22857142857141,
          85.77142857142854,
          84.31428571428569,
          82.85714285714282
         ],
         "yaxis": "y2"
        },
        {
         "marker": {
          "color": "blue"
         },
         "mode": "markers",
         "name": "Phase 1 Data",
         "type": "scatter",
         "x": [
          1,
          2,
          3,
          4,
          5,
          6,
          7,
          8,
          9,
          10,
          11,
          12,
          13,
          14,
          15,
          16,
          17,
          18,
          19,
          20
         ],
         "xaxis": "x3",
         "y": [
          82,
          91,
          92,
          90,
          81,
          91,
          88,
          89,
          92,
          92,
          88,
          86,
          72,
          92,
          91,
          89,
          81,
          89,
          83,
          80
         ],
         "yaxis": "y3"
        },
        {
         "hovertemplate": "<b>OLS trendline</b><br>sleep_score = -0.245865 * cycle_day + 89.5316<br>R<sup>2</sup>=0.071919<br><br>cycle_day=%{x}<br>sleep_score=%{y} <b>(trend)</b><extra></extra>",
         "legendgroup": "",
         "line": {
          "color": "blue"
         },
         "marker": {
          "color": "#636efa",
          "symbol": "circle"
         },
         "mode": "lines",
         "name": "",
         "showlegend": false,
         "type": "scatter",
         "x": [
          1,
          2,
          3,
          4,
          5,
          6,
          7,
          8,
          9,
          10,
          11,
          12,
          13,
          14,
          15,
          16,
          17,
          18,
          19,
          20
         ],
         "xaxis": "x3",
         "y": [
          89.28571428571425,
          89.03984962406012,
          88.79398496240599,
          88.54812030075185,
          88.30225563909771,
          88.05639097744358,
          87.81052631578945,
          87.5646616541353,
          87.31879699248118,
          87.07293233082704,
          86.8270676691729,
          86.58120300751877,
          86.33533834586464,
          86.0894736842105,
          85.84360902255636,
          85.59774436090224,
          85.3518796992481,
          85.10601503759396,
          84.86015037593982,
          84.6142857142857
         ],
         "yaxis": "y3"
        },
        {
         "marker": {
          "color": "purple"
         },
         "mode": "markers",
         "name": "Phase 4 Data",
         "type": "scatter",
         "x": [
          21,
          22,
          23,
          24,
          25,
          26,
          27,
          28,
          29,
          30,
          31
         ],
         "xaxis": "x4",
         "y": [
          90,
          95,
          90,
          88,
          89,
          83,
          76,
          93,
          84,
          90,
          94
         ],
         "yaxis": "y4"
        },
        {
         "hovertemplate": "<b>OLS trendline</b><br>sleep_score = -0.190909 * cycle_day + 93.3273<br>R<sup>2</sup>=0.013078<br><br>cycle_day=%{x}<br>sleep_score=%{y} <b>(trend)</b><extra></extra>",
         "legendgroup": "",
         "line": {
          "color": "purple"
         },
         "marker": {
          "color": "#636efa",
          "symbol": "circle"
         },
         "mode": "lines",
         "name": "",
         "showlegend": false,
         "type": "scatter",
         "x": [
          21,
          22,
          23,
          24,
          25,
          26,
          27,
          28,
          29,
          30,
          31
         ],
         "xaxis": "x4",
         "y": [
          89.31818181818181,
          89.12727272727273,
          88.93636363636362,
          88.74545454545454,
          88.55454545454545,
          88.36363636363636,
          88.17272727272727,
          87.98181818181818,
          87.7909090909091,
          87.6,
          87.4090909090909
         ],
         "yaxis": "y4"
        },
        {
         "marker": {
          "color": "blue"
         },
         "mode": "markers",
         "name": "Phase 1 Data",
         "type": "scatter",
         "x": [
          1,
          2,
          3,
          4,
          5,
          6,
          7,
          8,
          9,
          10,
          11,
          12,
          13,
          14,
          15
         ],
         "xaxis": "x5",
         "y": [
          87,
          77,
          69,
          91,
          91,
          87,
          92,
          84,
          86,
          90,
          86,
          86,
          82,
          82,
          86
         ],
         "yaxis": "y5"
        },
        {
         "hovertemplate": "<b>OLS trendline</b><br>sleep_score = 0.189286 * cycle_day + 83.5524<br>R<sup>2</sup>=0.020188<br><br>cycle_day=%{x}<br>sleep_score=%{y} <b>(trend)</b><extra></extra>",
         "legendgroup": "",
         "line": {
          "color": "blue"
         },
         "marker": {
          "color": "#636efa",
          "symbol": "circle"
         },
         "mode": "lines",
         "name": "",
         "showlegend": false,
         "type": "scatter",
         "x": [
          1,
          2,
          3,
          4,
          5,
          6,
          7,
          8,
          9,
          10,
          11,
          12,
          13,
          14,
          15
         ],
         "xaxis": "x5",
         "y": [
          83.74166666666669,
          83.9309523809524,
          84.12023809523811,
          84.30952380952382,
          84.49880952380954,
          84.68809523809526,
          84.87738095238097,
          85.06666666666669,
          85.2559523809524,
          85.44523809523811,
          85.63452380952383,
          85.82380952380954,
          86.01309523809526,
          86.20238095238096,
          86.39166666666668
         ],
         "yaxis": "y5"
        },
        {
         "marker": {
          "color": "purple"
         },
         "mode": "markers",
         "name": "Phase 4 Data",
         "type": "scatter",
         "x": [
          16,
          17,
          18,
          19,
          20,
          21,
          22,
          23,
          24,
          25,
          26
         ],
         "xaxis": "x6",
         "y": [
          88,
          56,
          92,
          76,
          73,
          74,
          74,
          75,
          87,
          74,
          87
         ],
         "yaxis": "y6"
        },
        {
         "hovertemplate": "<b>OLS trendline</b><br>sleep_score = 0.463636 * cycle_day + 68.0818<br>R<sup>2</sup>=0.023010<br><br>cycle_day=%{x}<br>sleep_score=%{y} <b>(trend)</b><extra></extra>",
         "legendgroup": "",
         "line": {
          "color": "purple"
         },
         "marker": {
          "color": "#636efa",
          "symbol": "circle"
         },
         "mode": "lines",
         "name": "",
         "showlegend": false,
         "type": "scatter",
         "x": [
          16,
          17,
          18,
          19,
          20,
          21,
          22,
          23,
          24,
          25,
          26
         ],
         "xaxis": "x6",
         "y": [
          75.49999999999996,
          75.96363636363633,
          76.4272727272727,
          76.89090909090906,
          77.35454545454542,
          77.81818181818178,
          78.28181818181815,
          78.74545454545452,
          79.20909090909088,
          79.67272727272724,
          80.13636363636361
         ],
         "yaxis": "y6"
        },
        {
         "marker": {
          "color": "blue"
         },
         "mode": "markers",
         "name": "Phase 1 Data",
         "type": "scatter",
         "x": [
          1,
          2,
          3,
          4,
          5,
          6,
          7,
          8,
          9,
          10,
          11,
          12,
          13,
          14,
          15,
          16,
          17,
          18,
          19,
          20,
          21
         ],
         "xaxis": "x7",
         "y": [
          91,
          91,
          90,
          90,
          89,
          59,
          72,
          96,
          90,
          79,
          89,
          85,
          88,
          88,
          78,
          78,
          79,
          83,
          86,
          92,
          88
         ],
         "yaxis": "y7"
        },
        {
         "hovertemplate": "<b>OLS trendline</b><br>sleep_score = -0.0844156 * cycle_day + 85.7381<br>R<sup>2</sup>=0.003933<br><br>cycle_day=%{x}<br>sleep_score=%{y} <b>(trend)</b><extra></extra>",
         "legendgroup": "",
         "line": {
          "color": "blue"
         },
         "marker": {
          "color": "#636efa",
          "symbol": "circle"
         },
         "mode": "lines",
         "name": "",
         "showlegend": false,
         "type": "scatter",
         "x": [
          1,
          2,
          3,
          4,
          5,
          6,
          7,
          8,
          9,
          10,
          11,
          12,
          13,
          14,
          15,
          16,
          17,
          18,
          19,
          20,
          21
         ],
         "xaxis": "x7",
         "y": [
          85.65367965367963,
          85.56926406926405,
          85.48484848484846,
          85.40043290043288,
          85.3160173160173,
          85.23160173160171,
          85.14718614718613,
          85.06277056277054,
          84.97835497835496,
          84.89393939393938,
          84.8095238095238,
          84.72510822510822,
          84.64069264069263,
          84.55627705627704,
          84.47186147186146,
          84.38744588744588,
          84.3030303030303,
          84.21861471861472,
          84.13419913419912,
          84.04978354978354,
          83.96536796536796
         ],
         "yaxis": "y7"
        },
        {
         "marker": {
          "color": "purple"
         },
         "mode": "markers",
         "name": "Phase 4 Data",
         "type": "scatter",
         "x": [
          22,
          23,
          24,
          25,
          26,
          27,
          28,
          29,
          30,
          31,
          32,
          33
         ],
         "xaxis": "x8",
         "y": [
          91,
          86,
          87,
          83,
          82,
          85,
          82,
          90,
          75,
          74,
          86,
          81
         ],
         "yaxis": "y8"
        },
        {
         "hovertemplate": "<b>OLS trendline</b><br>sleep_score = -0.769231 * cycle_day + 104.654<br>R<sup>2</sup>=0.282995<br><br>cycle_day=%{x}<br>sleep_score=%{y} <b>(trend)</b><extra></extra>",
         "legendgroup": "",
         "line": {
          "color": "purple"
         },
         "marker": {
          "color": "#636efa",
          "symbol": "circle"
         },
         "mode": "lines",
         "name": "",
         "showlegend": false,
         "type": "scatter",
         "x": [
          22,
          23,
          24,
          25,
          26,
          27,
          28,
          29,
          30,
          31,
          32,
          33
         ],
         "xaxis": "x8",
         "y": [
          87.73076923076933,
          86.96153846153855,
          86.19230769230778,
          85.42307692307702,
          84.65384615384625,
          83.88461538461547,
          83.1153846153847,
          82.34615384615394,
          81.57692307692317,
          80.80769230769239,
          80.03846153846163,
          79.26923076923086
         ],
         "yaxis": "y8"
        },
        {
         "marker": {
          "color": "blue"
         },
         "mode": "markers",
         "name": "Phase 1 Data",
         "type": "scatter",
         "x": [
          1,
          2,
          3,
          4,
          5,
          6,
          7,
          8,
          9,
          10,
          11,
          12,
          13,
          14,
          15,
          16,
          17,
          18,
          19,
          20
         ],
         "xaxis": "x9",
         "y": [
          85,
          77,
          82,
          87,
          93,
          86,
          86,
          90,
          92,
          94,
          88,
          82,
          68,
          70,
          72,
          91,
          79,
          79,
          79,
          79
         ],
         "yaxis": "y9"
        },
        {
         "hovertemplate": "<b>OLS trendline</b><br>sleep_score = -0.477444 * cycle_day + 87.9632<br>R<sup>2</sup>=0.138443<br><br>cycle_day=%{x}<br>sleep_score=%{y} <b>(trend)</b><extra></extra>",
         "legendgroup": "",
         "line": {
          "color": "blue"
         },
         "marker": {
          "color": "#636efa",
          "symbol": "circle"
         },
         "mode": "lines",
         "name": "",
         "showlegend": false,
         "type": "scatter",
         "x": [
          1,
          2,
          3,
          4,
          5,
          6,
          7,
          8,
          9,
          10,
          11,
          12,
          13,
          14,
          15,
          16,
          17,
          18,
          19,
          20
         ],
         "xaxis": "x9",
         "y": [
          87.48571428571425,
          87.0082706766917,
          86.53082706766914,
          86.05338345864658,
          85.57593984962404,
          85.09849624060148,
          84.62105263157892,
          84.14360902255636,
          83.6661654135338,
          83.18872180451125,
          82.71127819548869,
          82.23383458646613,
          81.75639097744357,
          81.27894736842102,
          80.80150375939847,
          80.32406015037591,
          79.84661654135336,
          79.3691729323308,
          78.89172932330824,
          78.41428571428568
         ],
         "yaxis": "y9"
        },
        {
         "marker": {
          "color": "purple"
         },
         "mode": "markers",
         "name": "Phase 4 Data",
         "type": "scatter",
         "x": [
          21,
          22,
          23,
          24,
          25,
          26,
          27,
          28
         ],
         "xaxis": "x10",
         "y": [
          84,
          86,
          90,
          89,
          76,
          78,
          78,
          78
         ],
         "yaxis": "y10"
        },
        {
         "hovertemplate": "<b>OLS trendline</b><br>sleep_score = -1.55952 * cycle_day + 120.583<br>R<sup>2</sup>=0.473185<br><br>cycle_day=%{x}<br>sleep_score=%{y} <b>(trend)</b><extra></extra>",
         "legendgroup": "",
         "line": {
          "color": "purple"
         },
         "marker": {
          "color": "#636efa",
          "symbol": "circle"
         },
         "mode": "lines",
         "name": "",
         "showlegend": false,
         "type": "scatter",
         "x": [
          21,
          22,
          23,
          24,
          25,
          26,
          27,
          28
         ],
         "xaxis": "x10",
         "y": [
          87.83333333333327,
          86.27380952380946,
          84.71428571428567,
          83.15476190476186,
          81.59523809523806,
          80.03571428571425,
          78.47619047619045,
          76.91666666666664
         ],
         "yaxis": "y10"
        }
       ],
       "layout": {
        "annotations": [
         {
          "font": {
           "size": 16
          },
          "showarrow": false,
          "text": "Cycle 1 - Phase 1",
          "x": 0.225,
          "xanchor": "center",
          "xref": "paper",
          "y": 1,
          "yanchor": "bottom",
          "yref": "paper"
         },
         {
          "font": {
           "size": 16
          },
          "showarrow": false,
          "text": "Cycle 1 - Phase 4",
          "x": 0.775,
          "xanchor": "center",
          "xref": "paper",
          "y": 1,
          "yanchor": "bottom",
          "yref": "paper"
         },
         {
          "font": {
           "size": 16
          },
          "showarrow": false,
          "text": "Cycle 2 - Phase 1",
          "x": 0.225,
          "xanchor": "center",
          "xref": "paper",
          "y": 0.78,
          "yanchor": "bottom",
          "yref": "paper"
         },
         {
          "font": {
           "size": 16
          },
          "showarrow": false,
          "text": "Cycle 2 - Phase 4",
          "x": 0.775,
          "xanchor": "center",
          "xref": "paper",
          "y": 0.78,
          "yanchor": "bottom",
          "yref": "paper"
         },
         {
          "font": {
           "size": 16
          },
          "showarrow": false,
          "text": "Cycle 3 - Phase 1",
          "x": 0.225,
          "xanchor": "center",
          "xref": "paper",
          "y": 0.56,
          "yanchor": "bottom",
          "yref": "paper"
         },
         {
          "font": {
           "size": 16
          },
          "showarrow": false,
          "text": "Cycle 3 - Phase 4",
          "x": 0.775,
          "xanchor": "center",
          "xref": "paper",
          "y": 0.56,
          "yanchor": "bottom",
          "yref": "paper"
         },
         {
          "font": {
           "size": 16
          },
          "showarrow": false,
          "text": "Cycle 4 - Phase 1",
          "x": 0.225,
          "xanchor": "center",
          "xref": "paper",
          "y": 0.33999999999999997,
          "yanchor": "bottom",
          "yref": "paper"
         },
         {
          "font": {
           "size": 16
          },
          "showarrow": false,
          "text": "Cycle 4 - Phase 4",
          "x": 0.775,
          "xanchor": "center",
          "xref": "paper",
          "y": 0.33999999999999997,
          "yanchor": "bottom",
          "yref": "paper"
         },
         {
          "font": {
           "size": 16
          },
          "showarrow": false,
          "text": "Cycle 5 - Phase 1",
          "x": 0.225,
          "xanchor": "center",
          "xref": "paper",
          "y": 0.12,
          "yanchor": "bottom",
          "yref": "paper"
         },
         {
          "font": {
           "size": 16
          },
          "showarrow": false,
          "text": "Cycle 5 - Phase 4",
          "x": 0.775,
          "xanchor": "center",
          "xref": "paper",
          "y": 0.12,
          "yanchor": "bottom",
          "yref": "paper"
         }
        ],
        "height": 1500,
        "template": {
         "data": {
          "bar": [
           {
            "error_x": {
             "color": "#2a3f5f"
            },
            "error_y": {
             "color": "#2a3f5f"
            },
            "marker": {
             "line": {
              "color": "#E5ECF6",
              "width": 0.5
             },
             "pattern": {
              "fillmode": "overlay",
              "size": 10,
              "solidity": 0.2
             }
            },
            "type": "bar"
           }
          ],
          "barpolar": [
           {
            "marker": {
             "line": {
              "color": "#E5ECF6",
              "width": 0.5
             },
             "pattern": {
              "fillmode": "overlay",
              "size": 10,
              "solidity": 0.2
             }
            },
            "type": "barpolar"
           }
          ],
          "carpet": [
           {
            "aaxis": {
             "endlinecolor": "#2a3f5f",
             "gridcolor": "white",
             "linecolor": "white",
             "minorgridcolor": "white",
             "startlinecolor": "#2a3f5f"
            },
            "baxis": {
             "endlinecolor": "#2a3f5f",
             "gridcolor": "white",
             "linecolor": "white",
             "minorgridcolor": "white",
             "startlinecolor": "#2a3f5f"
            },
            "type": "carpet"
           }
          ],
          "choropleth": [
           {
            "colorbar": {
             "outlinewidth": 0,
             "ticks": ""
            },
            "type": "choropleth"
           }
          ],
          "contour": [
           {
            "colorbar": {
             "outlinewidth": 0,
             "ticks": ""
            },
            "colorscale": [
             [
              0,
              "#0d0887"
             ],
             [
              0.1111111111111111,
              "#46039f"
             ],
             [
              0.2222222222222222,
              "#7201a8"
             ],
             [
              0.3333333333333333,
              "#9c179e"
             ],
             [
              0.4444444444444444,
              "#bd3786"
             ],
             [
              0.5555555555555556,
              "#d8576b"
             ],
             [
              0.6666666666666666,
              "#ed7953"
             ],
             [
              0.7777777777777778,
              "#fb9f3a"
             ],
             [
              0.8888888888888888,
              "#fdca26"
             ],
             [
              1,
              "#f0f921"
             ]
            ],
            "type": "contour"
           }
          ],
          "contourcarpet": [
           {
            "colorbar": {
             "outlinewidth": 0,
             "ticks": ""
            },
            "type": "contourcarpet"
           }
          ],
          "heatmap": [
           {
            "colorbar": {
             "outlinewidth": 0,
             "ticks": ""
            },
            "colorscale": [
             [
              0,
              "#0d0887"
             ],
             [
              0.1111111111111111,
              "#46039f"
             ],
             [
              0.2222222222222222,
              "#7201a8"
             ],
             [
              0.3333333333333333,
              "#9c179e"
             ],
             [
              0.4444444444444444,
              "#bd3786"
             ],
             [
              0.5555555555555556,
              "#d8576b"
             ],
             [
              0.6666666666666666,
              "#ed7953"
             ],
             [
              0.7777777777777778,
              "#fb9f3a"
             ],
             [
              0.8888888888888888,
              "#fdca26"
             ],
             [
              1,
              "#f0f921"
             ]
            ],
            "type": "heatmap"
           }
          ],
          "heatmapgl": [
           {
            "colorbar": {
             "outlinewidth": 0,
             "ticks": ""
            },
            "colorscale": [
             [
              0,
              "#0d0887"
             ],
             [
              0.1111111111111111,
              "#46039f"
             ],
             [
              0.2222222222222222,
              "#7201a8"
             ],
             [
              0.3333333333333333,
              "#9c179e"
             ],
             [
              0.4444444444444444,
              "#bd3786"
             ],
             [
              0.5555555555555556,
              "#d8576b"
             ],
             [
              0.6666666666666666,
              "#ed7953"
             ],
             [
              0.7777777777777778,
              "#fb9f3a"
             ],
             [
              0.8888888888888888,
              "#fdca26"
             ],
             [
              1,
              "#f0f921"
             ]
            ],
            "type": "heatmapgl"
           }
          ],
          "histogram": [
           {
            "marker": {
             "pattern": {
              "fillmode": "overlay",
              "size": 10,
              "solidity": 0.2
             }
            },
            "type": "histogram"
           }
          ],
          "histogram2d": [
           {
            "colorbar": {
             "outlinewidth": 0,
             "ticks": ""
            },
            "colorscale": [
             [
              0,
              "#0d0887"
             ],
             [
              0.1111111111111111,
              "#46039f"
             ],
             [
              0.2222222222222222,
              "#7201a8"
             ],
             [
              0.3333333333333333,
              "#9c179e"
             ],
             [
              0.4444444444444444,
              "#bd3786"
             ],
             [
              0.5555555555555556,
              "#d8576b"
             ],
             [
              0.6666666666666666,
              "#ed7953"
             ],
             [
              0.7777777777777778,
              "#fb9f3a"
             ],
             [
              0.8888888888888888,
              "#fdca26"
             ],
             [
              1,
              "#f0f921"
             ]
            ],
            "type": "histogram2d"
           }
          ],
          "histogram2dcontour": [
           {
            "colorbar": {
             "outlinewidth": 0,
             "ticks": ""
            },
            "colorscale": [
             [
              0,
              "#0d0887"
             ],
             [
              0.1111111111111111,
              "#46039f"
             ],
             [
              0.2222222222222222,
              "#7201a8"
             ],
             [
              0.3333333333333333,
              "#9c179e"
             ],
             [
              0.4444444444444444,
              "#bd3786"
             ],
             [
              0.5555555555555556,
              "#d8576b"
             ],
             [
              0.6666666666666666,
              "#ed7953"
             ],
             [
              0.7777777777777778,
              "#fb9f3a"
             ],
             [
              0.8888888888888888,
              "#fdca26"
             ],
             [
              1,
              "#f0f921"
             ]
            ],
            "type": "histogram2dcontour"
           }
          ],
          "mesh3d": [
           {
            "colorbar": {
             "outlinewidth": 0,
             "ticks": ""
            },
            "type": "mesh3d"
           }
          ],
          "parcoords": [
           {
            "line": {
             "colorbar": {
              "outlinewidth": 0,
              "ticks": ""
             }
            },
            "type": "parcoords"
           }
          ],
          "pie": [
           {
            "automargin": true,
            "type": "pie"
           }
          ],
          "scatter": [
           {
            "fillpattern": {
             "fillmode": "overlay",
             "size": 10,
             "solidity": 0.2
            },
            "type": "scatter"
           }
          ],
          "scatter3d": [
           {
            "line": {
             "colorbar": {
              "outlinewidth": 0,
              "ticks": ""
             }
            },
            "marker": {
             "colorbar": {
              "outlinewidth": 0,
              "ticks": ""
             }
            },
            "type": "scatter3d"
           }
          ],
          "scattercarpet": [
           {
            "marker": {
             "colorbar": {
              "outlinewidth": 0,
              "ticks": ""
             }
            },
            "type": "scattercarpet"
           }
          ],
          "scattergeo": [
           {
            "marker": {
             "colorbar": {
              "outlinewidth": 0,
              "ticks": ""
             }
            },
            "type": "scattergeo"
           }
          ],
          "scattergl": [
           {
            "marker": {
             "colorbar": {
              "outlinewidth": 0,
              "ticks": ""
             }
            },
            "type": "scattergl"
           }
          ],
          "scattermapbox": [
           {
            "marker": {
             "colorbar": {
              "outlinewidth": 0,
              "ticks": ""
             }
            },
            "type": "scattermapbox"
           }
          ],
          "scatterpolar": [
           {
            "marker": {
             "colorbar": {
              "outlinewidth": 0,
              "ticks": ""
             }
            },
            "type": "scatterpolar"
           }
          ],
          "scatterpolargl": [
           {
            "marker": {
             "colorbar": {
              "outlinewidth": 0,
              "ticks": ""
             }
            },
            "type": "scatterpolargl"
           }
          ],
          "scatterternary": [
           {
            "marker": {
             "colorbar": {
              "outlinewidth": 0,
              "ticks": ""
             }
            },
            "type": "scatterternary"
           }
          ],
          "surface": [
           {
            "colorbar": {
             "outlinewidth": 0,
             "ticks": ""
            },
            "colorscale": [
             [
              0,
              "#0d0887"
             ],
             [
              0.1111111111111111,
              "#46039f"
             ],
             [
              0.2222222222222222,
              "#7201a8"
             ],
             [
              0.3333333333333333,
              "#9c179e"
             ],
             [
              0.4444444444444444,
              "#bd3786"
             ],
             [
              0.5555555555555556,
              "#d8576b"
             ],
             [
              0.6666666666666666,
              "#ed7953"
             ],
             [
              0.7777777777777778,
              "#fb9f3a"
             ],
             [
              0.8888888888888888,
              "#fdca26"
             ],
             [
              1,
              "#f0f921"
             ]
            ],
            "type": "surface"
           }
          ],
          "table": [
           {
            "cells": {
             "fill": {
              "color": "#EBF0F8"
             },
             "line": {
              "color": "white"
             }
            },
            "header": {
             "fill": {
              "color": "#C8D4E3"
             },
             "line": {
              "color": "white"
             }
            },
            "type": "table"
           }
          ]
         },
         "layout": {
          "annotationdefaults": {
           "arrowcolor": "#2a3f5f",
           "arrowhead": 0,
           "arrowwidth": 1
          },
          "autotypenumbers": "strict",
          "coloraxis": {
           "colorbar": {
            "outlinewidth": 0,
            "ticks": ""
           }
          },
          "colorscale": {
           "diverging": [
            [
             0,
             "#8e0152"
            ],
            [
             0.1,
             "#c51b7d"
            ],
            [
             0.2,
             "#de77ae"
            ],
            [
             0.3,
             "#f1b6da"
            ],
            [
             0.4,
             "#fde0ef"
            ],
            [
             0.5,
             "#f7f7f7"
            ],
            [
             0.6,
             "#e6f5d0"
            ],
            [
             0.7,
             "#b8e186"
            ],
            [
             0.8,
             "#7fbc41"
            ],
            [
             0.9,
             "#4d9221"
            ],
            [
             1,
             "#276419"
            ]
           ],
           "sequential": [
            [
             0,
             "#0d0887"
            ],
            [
             0.1111111111111111,
             "#46039f"
            ],
            [
             0.2222222222222222,
             "#7201a8"
            ],
            [
             0.3333333333333333,
             "#9c179e"
            ],
            [
             0.4444444444444444,
             "#bd3786"
            ],
            [
             0.5555555555555556,
             "#d8576b"
            ],
            [
             0.6666666666666666,
             "#ed7953"
            ],
            [
             0.7777777777777778,
             "#fb9f3a"
            ],
            [
             0.8888888888888888,
             "#fdca26"
            ],
            [
             1,
             "#f0f921"
            ]
           ],
           "sequentialminus": [
            [
             0,
             "#0d0887"
            ],
            [
             0.1111111111111111,
             "#46039f"
            ],
            [
             0.2222222222222222,
             "#7201a8"
            ],
            [
             0.3333333333333333,
             "#9c179e"
            ],
            [
             0.4444444444444444,
             "#bd3786"
            ],
            [
             0.5555555555555556,
             "#d8576b"
            ],
            [
             0.6666666666666666,
             "#ed7953"
            ],
            [
             0.7777777777777778,
             "#fb9f3a"
            ],
            [
             0.8888888888888888,
             "#fdca26"
            ],
            [
             1,
             "#f0f921"
            ]
           ]
          },
          "colorway": [
           "#636efa",
           "#EF553B",
           "#00cc96",
           "#ab63fa",
           "#FFA15A",
           "#19d3f3",
           "#FF6692",
           "#B6E880",
           "#FF97FF",
           "#FECB52"
          ],
          "font": {
           "color": "#2a3f5f"
          },
          "geo": {
           "bgcolor": "white",
           "lakecolor": "white",
           "landcolor": "#E5ECF6",
           "showlakes": true,
           "showland": true,
           "subunitcolor": "white"
          },
          "hoverlabel": {
           "align": "left"
          },
          "hovermode": "closest",
          "mapbox": {
           "style": "light"
          },
          "paper_bgcolor": "white",
          "plot_bgcolor": "#E5ECF6",
          "polar": {
           "angularaxis": {
            "gridcolor": "white",
            "linecolor": "white",
            "ticks": ""
           },
           "bgcolor": "#E5ECF6",
           "radialaxis": {
            "gridcolor": "white",
            "linecolor": "white",
            "ticks": ""
           }
          },
          "scene": {
           "xaxis": {
            "backgroundcolor": "#E5ECF6",
            "gridcolor": "white",
            "gridwidth": 2,
            "linecolor": "white",
            "showbackground": true,
            "ticks": "",
            "zerolinecolor": "white"
           },
           "yaxis": {
            "backgroundcolor": "#E5ECF6",
            "gridcolor": "white",
            "gridwidth": 2,
            "linecolor": "white",
            "showbackground": true,
            "ticks": "",
            "zerolinecolor": "white"
           },
           "zaxis": {
            "backgroundcolor": "#E5ECF6",
            "gridcolor": "white",
            "gridwidth": 2,
            "linecolor": "white",
            "showbackground": true,
            "ticks": "",
            "zerolinecolor": "white"
           }
          },
          "shapedefaults": {
           "line": {
            "color": "#2a3f5f"
           }
          },
          "ternary": {
           "aaxis": {
            "gridcolor": "white",
            "linecolor": "white",
            "ticks": ""
           },
           "baxis": {
            "gridcolor": "white",
            "linecolor": "white",
            "ticks": ""
           },
           "bgcolor": "#E5ECF6",
           "caxis": {
            "gridcolor": "white",
            "linecolor": "white",
            "ticks": ""
           }
          },
          "title": {
           "x": 0.05
          },
          "xaxis": {
           "automargin": true,
           "gridcolor": "white",
           "linecolor": "white",
           "ticks": "",
           "title": {
            "standoff": 15
           },
           "zerolinecolor": "white",
           "zerolinewidth": 2
          },
          "yaxis": {
           "automargin": true,
           "gridcolor": "white",
           "linecolor": "white",
           "ticks": "",
           "title": {
            "standoff": 15
           },
           "zerolinecolor": "white",
           "zerolinewidth": 2
          }
         }
        },
        "title": {
         "text": "Sleep Score by Cycle Day for Each Cycle and Phase"
        },
        "xaxis": {
         "anchor": "y",
         "domain": [
          0,
          0.45
         ],
         "matches": "x9",
         "showticklabels": false
        },
        "xaxis10": {
         "anchor": "y10",
         "domain": [
          0.55,
          1
         ]
        },
        "xaxis2": {
         "anchor": "y2",
         "domain": [
          0.55,
          1
         ],
         "matches": "x10",
         "showticklabels": false
        },
        "xaxis3": {
         "anchor": "y3",
         "domain": [
          0,
          0.45
         ],
         "matches": "x9",
         "showticklabels": false
        },
        "xaxis4": {
         "anchor": "y4",
         "domain": [
          0.55,
          1
         ],
         "matches": "x10",
         "showticklabels": false
        },
        "xaxis5": {
         "anchor": "y5",
         "domain": [
          0,
          0.45
         ],
         "matches": "x9",
         "showticklabels": false
        },
        "xaxis6": {
         "anchor": "y6",
         "domain": [
          0.55,
          1
         ],
         "matches": "x10",
         "showticklabels": false
        },
        "xaxis7": {
         "anchor": "y7",
         "domain": [
          0,
          0.45
         ],
         "matches": "x9",
         "showticklabels": false
        },
        "xaxis8": {
         "anchor": "y8",
         "domain": [
          0.55,
          1
         ],
         "matches": "x10",
         "showticklabels": false
        },
        "xaxis9": {
         "anchor": "y9",
         "domain": [
          0,
          0.45
         ]
        },
        "yaxis": {
         "anchor": "x",
         "domain": [
          0.88,
          1
         ]
        },
        "yaxis10": {
         "anchor": "x10",
         "domain": [
          0,
          0.12
         ],
         "matches": "y9",
         "showticklabels": false
        },
        "yaxis2": {
         "anchor": "x2",
         "domain": [
          0.88,
          1
         ],
         "matches": "y",
         "showticklabels": false
        },
        "yaxis3": {
         "anchor": "x3",
         "domain": [
          0.66,
          0.78
         ]
        },
        "yaxis4": {
         "anchor": "x4",
         "domain": [
          0.66,
          0.78
         ],
         "matches": "y3",
         "showticklabels": false
        },
        "yaxis5": {
         "anchor": "x5",
         "domain": [
          0.44,
          0.56
         ]
        },
        "yaxis6": {
         "anchor": "x6",
         "domain": [
          0.44,
          0.56
         ],
         "matches": "y5",
         "showticklabels": false
        },
        "yaxis7": {
         "anchor": "x7",
         "domain": [
          0.22,
          0.33999999999999997
         ]
        },
        "yaxis8": {
         "anchor": "x8",
         "domain": [
          0.22,
          0.33999999999999997
         ],
         "matches": "y7",
         "showticklabels": false
        },
        "yaxis9": {
         "anchor": "x9",
         "domain": [
          0,
          0.12
         ]
        }
       }
      }
     },
     "metadata": {},
     "output_type": "display_data"
    }
   ],
   "source": [
    "import pandas as pd\n",
    "import plotly.graph_objects as go\n",
    "import plotly.express as px\n",
    "from plotly.subplots import make_subplots\n",
    "\n",
    "# Load data from CSV\n",
    "file_path = '/Data_Option2.csv'  # Replace with the path to your CSV file\n",
    "df = pd.read_csv(file_path)\n",
    "\n",
    "# Create a dictionary to store dataframes for each phase and cycle combination\n",
    "dfs = {}\n",
    "\n",
    "# Group by phase and cycle and store each group in the dictionary\n",
    "for (phase, cycle), group_df in df.groupby(['phase', 'cycle']):\n",
    "    # Extract relevant columns\n",
    "    subset_df = group_df[['cycle_day', 'sleep_score', 'phase', 'cycle']]\n",
    "    dfs[(phase, cycle)] = subset_df\n",
    "\n",
    "# Define a color map for phases\n",
    "phase_colors = {\n",
    "    1: 'blue',\n",
    "    2: 'green',\n",
    "    3: 'red',\n",
    "    4: 'purple'\n",
    "    # Add more colors if there are more phases\n",
    "}\n",
    "\n",
    "# Create subplots for each cycle and phase combination\n",
    "unique_cycles = df['cycle'].unique()\n",
    "unique_phases = df['phase'].unique()\n",
    "num_cycles = len(unique_cycles)\n",
    "num_phases = len(unique_phases)\n",
    "fig = make_subplots(rows=num_cycles, cols=num_phases, shared_xaxes=True, shared_yaxes=True,\n",
    "                    subplot_titles=[f'Cycle {cycle} - Phase {phase}' for cycle in unique_cycles for phase in unique_phases])\n",
    "\n",
    "# Plot data for each cycle and phase combination\n",
    "for cycle_idx, cycle in enumerate(unique_cycles, start=1):\n",
    "    for phase_idx, phase in enumerate(unique_phases, start=1):\n",
    "        data = dfs.get((phase, cycle))\n",
    "        if data is not None:\n",
    "            scatter = go.Scatter(x=data['cycle_day'], y=data['sleep_score'], mode='markers', name=f'Phase {phase} Data', marker=dict(color=phase_colors[phase]))\n",
    "            trendline = px.scatter(data, x='cycle_day', y='sleep_score', trendline=\"ols\").data[1]\n",
    "            trendline['line']['color'] = phase_colors[phase]\n",
    "            fig.add_trace(scatter, row=cycle_idx, col=phase_idx)\n",
    "            fig.add_trace(trendline, row=cycle_idx, col=phase_idx)\n",
    "\n",
    "# Update layout and show the plot\n",
    "fig.update_layout(title='Sleep Score by Cycle Day for Each Cycle and Phase', height=300*num_cycles)\n",
    "fig.show()"
   ]
  }
 ],
 "metadata": {
  "kernelspec": {
   "display_name": "Python 3",
   "language": "python",
   "name": "python3"
  },
  "language_info": {
   "codemirror_mode": {
    "name": "ipython",
    "version": 3
   },
   "file_extension": ".py",
   "mimetype": "text/x-python",
   "name": "python",
   "nbconvert_exporter": "python",
   "pygments_lexer": "ipython3",
   "version": "3.11.2"
  },
  "orig_nbformat": 4
 },
 "nbformat": 4,
 "nbformat_minor": 2
}
