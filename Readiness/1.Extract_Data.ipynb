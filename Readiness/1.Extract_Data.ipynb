{
 "cells": [
  {
   "cell_type": "code",
   "execution_count": 16,
   "metadata": {},
   "outputs": [
    {
     "name": "stdout",
     "output_type": "stream",
     "text": [
      "Requirement already satisfied: requests in /Library/Frameworks/Python.framework/Versions/3.11/lib/python3.11/site-packages (2.31.0)\n",
      "Requirement already satisfied: pandas in /Library/Frameworks/Python.framework/Versions/3.11/lib/python3.11/site-packages (2.0.2)\n",
      "Requirement already satisfied: charset-normalizer<4,>=2 in /Library/Frameworks/Python.framework/Versions/3.11/lib/python3.11/site-packages (from requests) (3.1.0)\n",
      "Requirement already satisfied: idna<4,>=2.5 in /Library/Frameworks/Python.framework/Versions/3.11/lib/python3.11/site-packages (from requests) (3.4)\n",
      "Requirement already satisfied: urllib3<3,>=1.21.1 in /Library/Frameworks/Python.framework/Versions/3.11/lib/python3.11/site-packages (from requests) (1.26.16)\n",
      "Requirement already satisfied: certifi>=2017.4.17 in /Library/Frameworks/Python.framework/Versions/3.11/lib/python3.11/site-packages (from requests) (2023.5.7)\n",
      "Requirement already satisfied: python-dateutil>=2.8.2 in /Users/nada/Library/Python/3.11/lib/python/site-packages (from pandas) (2.8.2)\n",
      "Requirement already satisfied: pytz>=2020.1 in /Library/Frameworks/Python.framework/Versions/3.11/lib/python3.11/site-packages (from pandas) (2023.3)\n",
      "Requirement already satisfied: tzdata>=2022.1 in /Library/Frameworks/Python.framework/Versions/3.11/lib/python3.11/site-packages (from pandas) (2023.3)\n",
      "Requirement already satisfied: numpy>=1.21.0 in /Library/Frameworks/Python.framework/Versions/3.11/lib/python3.11/site-packages (from pandas) (1.24.3)\n",
      "Requirement already satisfied: six>=1.5 in /Users/nada/Library/Python/3.11/lib/python/site-packages (from python-dateutil>=2.8.2->pandas) (1.16.0)\n",
      "Note: you may need to restart the kernel to use updated packages.\n"
     ]
    }
   ],
   "source": [
    "pip install requests pandas"
   ]
  },
  {
   "cell_type": "code",
   "execution_count": 17,
   "metadata": {},
   "outputs": [
    {
     "name": "stdout",
     "output_type": "stream",
     "text": [
      "{'id': '84962-aa05fbf7e-5e311b99ab0d7af9e7a-', 'age': 31, 'weight': 75.8, 'height': 1.5, 'biological_sex': 'female', 'email': 'nada.haboudal@gmail.com'}\n"
     ]
    }
   ],
   "source": [
    "import requests\n",
    "\n",
    "# Your Personal Access Token\n",
    "TOKEN = ''\n",
    "\n",
    "# Oura API endpoint to fetch your personal information\n",
    "URL = 'https://api.ouraring.com/v2/usercollection/personal_info'\n",
    "\n",
    "# Set up the headers with your token\n",
    "headers = {\n",
    "    'Authorization': f'Bearer {TOKEN}',\n",
    "    'Content-Type': 'application/json'\n",
    "}\n",
    "\n",
    "# Make the GET request\n",
    "response = requests.get(URL, headers=headers)\n",
    "\n",
    "# Check if the request was successful\n",
    "if response.status_code == 200:\n",
    "    try:\n",
    "        data = response.json()\n",
    "        print(data)\n",
    "    except Exception as e:\n",
    "        print(f\"Error processing the data: {e}\")\n",
    "else:\n",
    "    print(f\"Failed to fetch data. Status code: {response.status_code}, Message: {response.text}\")\n",
    "\n"
   ]
  },
  {
   "cell_type": "code",
   "execution_count": 18,
   "metadata": {},
   "outputs": [
    {
     "name": "stdout",
     "output_type": "stream",
     "text": [
      "{\"data\":[{\"id\":\"67fb10d9-63b1-418b-bae3-615868561735\",\"contributors\":{\"activity_balance\":87,\"body_temperature\":100,\"hrv_balance\":87,\"previous_day_activity\":93,\"previous_night\":68,\"recovery_index\":100,\"resting_heart_rate\":97,\"sleep_balance\":79},\"day\":\"2023-01-22\",\"score\":86,\"temperature_deviation\":-0.14,\"temperature_trend_deviation\":0.08,\"timestamp\":\"2023-01-22T00:00:00+00:00\"},{\"id\":\"e8e11627-ffa7-4d4f-9d21-811e446281be\",\"contributors\":{\"activity_balance\":92,\"body_temperature\":97,\"hrv_balance\":89,\"previous_day_activity\":96,\"previous_night\":100,\"recovery_index\":51,\"resting_heart_rate\":100,\"sleep_balance\":79},\"day\":\"2023-01-23\",\"score\":87,\"temperature_deviation\":0.09,\"temperature_trend_deviation\":0.11,\"timestamp\":\"2023-01-23T00:00:00+00:00\"},{\"id\":\"a66a479a-dac8-4594-9814-bcf71a2a3dc3\",\"contributors\":{\"activity_balance\":96,\"body_temperature\":100,\"hrv_balance\":96,\"previous_day_activity\":89,\"previous_night\":31,\"recovery_index\":100,\"resting_heart_rate\":84,\"sleep_balance\":66},\"day\":\"2023-01-25\",\"score\":77,\"temperature_deviation\":-0.08,\"temperature_trend_deviation\":0.1,\"timestamp\":\"2023-01-25T00:00:00+00:00\"},{\"id\":\"a371c353-c543-45c3-8c3a-7b98033cd003\",\"contributors\":{\"activity_balance\":82,\"body_temperature\":100,\"hrv_balance\":93,\"previous_day_activity\":76,\"previous_night\":74,\"recovery_index\":27,\"resting_heart_rate\":88,\"sleep_balance\":28},\"day\":\"2023-01-27\",\"score\":64,\"temperature_deviation\":0.03,\"temperature_trend_deviation\":0.1,\"timestamp\":\"2023-01-27T00:00:00+00:00\"},{\"id\":\"9160ade8-685e-4974-ab6c-7e77b5c62bbf\",\"contributors\":{\"activity_balance\":82,\"body_temperature\":100,\"hrv_balance\":93,\"previous_day_activity\":86,\"previous_night\":99,\"recovery_index\":63,\"resting_heart_rate\":96,\"sleep_balance\":32},\"day\":\"2023-01-29\",\"score\":74,\"temperature_deviation\":-0.1,\"temperature_trend_deviation\":0.08,\"timestamp\":\"2023-01-29T00:00:00+00:00\"},{\"id\":\"cc584d72-026d-4ade-a9e3-5c35f43e96ad\",\"contributors\":{\"activity_balance\":75,\"body_temperature\":91,\"hrv_balance\":96,\"previous_day_activity\":80,\"previous_night\":94,\"recovery_index\":83,\"resting_heart_rate\":100,\"sleep_balance\":38},\"day\":\"2023-01-30\",\"score\":77,\"temperature_deviation\":0.16,\"temperature_trend_deviation\":0.14,\"timestamp\":\"2023-01-30T00:00:00+00:00\"},{\"id\":\"a6345022-1fd7-4f6f-81bf-b66ce2e72c1c\",\"contributors\":{\"activity_balance\":82,\"body_temperature\":99,\"hrv_balance\":94,\"previous_day_activity\":92,\"previous_night\":100,\"recovery_index\":80,\"resting_heart_rate\":100,\"sleep_balance\":54},\"day\":\"2023-02-01\",\"score\":83,\"temperature_deviation\":-0.18,\"temperature_trend_deviation\":0.1,\"timestamp\":\"2023-02-01T00:00:00+00:00\"},{\"id\":\"d5fb4743-ba8f-4c09-ad13-0f5b861f9c0c\",\"contributors\":{\"activity_balance\":85,\"body_temperature\":95,\"hrv_balance\":99,\"previous_day_activity\":84,\"previous_night\":35,\"recovery_index\":99,\"resting_heart_rate\":94,\"sleep_balance\":47},\"day\":\"2023-02-02\",\"score\":73,\"temperature_deviation\":-0.29,\"temperature_trend_deviation\":-0.01,\"timestamp\":\"2023-02-02T00:00:00+00:00\"},{\"id\":\"da168b6e-e7ae-42fa-b1e6-72dfa1a9441c\",\"contributors\":{\"activity_balance\":82,\"body_temperature\":100,\"hrv_balance\":97,\"previous_day_activity\":87,\"previous_night\":93,\"recovery_index\":81,\"resting_heart_rate\":87,\"sleep_balance\":62},\"day\":\"2023-02-03\",\"score\":82,\"temperature_deviation\":0.02,\"temperature_trend_deviation\":0.0,\"timestamp\":\"2023-02-03T00:00:00+00:00\"},{\"id\":\"e887113d-8ffd-40d4-8872-bedebab86bb3\",\"contributors\":{\"activity_balance\":71,\"body_temperature\":95,\"hrv_balance\":98,\"previous_day_activity\":87,\"previous_night\":85,\"recovery_index\":26,\"resting_heart_rate\":93,\"sleep_balance\":65},\"day\":\"2023-02-04\",\"score\":76,\"temperature_deviation\":-0.3,\"temperature_trend_deviation\":-0.02,\"timestamp\":\"2023-02-04T00:00:00+00:00\"},{\"id\":\"dad563fb-5b79-49c3-8d97-74ffdeccbc85\",\"contributors\":{\"activity_balance\":75,\"body_temperature\":97,\"hrv_balance\":99,\"previous_day_activity\":85,\"previous_night\":95,\"recovery_index\":94,\"resting_heart_rate\":100,\"sleep_balance\":79},\"day\":\"2023-02-05\",\"score\":89,\"temperature_deviation\":-0.23,\"temperature_trend_deviation\":-0.07,\"timestamp\":\"2023-02-05T00:00:00+00:00\"},{\"id\":\"523f39d1-9b36-4c0e-9424-59e668defc67\",\"contributors\":{\"activity_balance\":74,\"body_temperature\":100,\"hrv_balance\":96,\"previous_day_activity\":100,\"previous_night\":95,\"recovery_index\":100,\"resting_heart_rate\":71,\"sleep_balance\":82},\"day\":\"2023-02-06\",\"score\":87,\"temperature_deviation\":-0.1,\"temperature_trend_deviation\":-0.06,\"timestamp\":\"2023-02-06T00:00:00+00:00\"},{\"id\":\"83b05cb1-fb9a-4e29-adb7-fa1a59627d34\",\"contributors\":{\"activity_balance\":85,\"body_temperature\":91,\"hrv_balance\":89,\"previous_day_activity\":100,\"previous_night\":92,\"recovery_index\":45,\"resting_heart_rate\":94,\"sleep_balance\":95},\"day\":\"2023-02-09\",\"score\":88,\"temperature_deviation\":0.16,\"temperature_trend_deviation\":0.1,\"timestamp\":\"2023-02-09T00:00:00+00:00\"},{\"id\":\"87b6346b-000f-4163-a6f7-a05605a62d3d\",\"contributors\":{\"activity_balance\":80,\"body_temperature\":77,\"hrv_balance\":63,\"previous_day_activity\":81,\"previous_night\":89,\"recovery_index\":57,\"resting_heart_rate\":34,\"sleep_balance\":93},\"day\":\"2023-02-10\",\"score\":73,\"temperature_deviation\":0.32,\"temperature_trend_deviation\":0.3,\"timestamp\":\"2023-02-10T00:00:00+00:00\"},{\"id\":\"5379ca65-8ffe-4a04-a818-1835c727d9a1\",\"contributors\":{\"activity_balance\":77,\"body_temperature\":86,\"hrv_balance\":45,\"previous_day_activity\":87,\"previous_night\":97,\"recovery_index\":100,\"resting_heart_rate\":58,\"sleep_balance\":93},\"day\":\"2023-02-13\",\"score\":80,\"temperature_deviation\":0.21,\"temperature_trend_deviation\":0.39,\"timestamp\":\"2023-02-13T00:00:00+00:00\"},{\"id\":\"e8856728-7313-4264-958c-8a86499fd0c1\",\"contributors\":{\"activity_balance\":75,\"body_temperature\":71,\"hrv_balance\":58,\"previous_day_activity\":75,\"previous_night\":69,\"recovery_index\":100,\"resting_heart_rate\":59,\"sleep_balance\":81},\"day\":\"2023-02-14\",\"score\":71,\"temperature_deviation\":0.39,\"temperature_trend_deviation\":0.46,\"timestamp\":\"2023-02-14T00:00:00+00:00\"},{\"id\":\"0faad943-4799-46a0-bd7a-0084c0c5c32a\",\"contributors\":{\"activity_balance\":76,\"body_temperature\":70,\"hrv_balance\":58,\"previous_day_activity\":69,\"previous_night\":62,\"recovery_index\":85,\"resting_heart_rate\":83,\"sleep_balance\":68},\"day\":\"2023-02-15\",\"score\":70,\"temperature_deviation\":0.41,\"temperature_trend_deviation\":0.52,\"timestamp\":\"2023-02-15T00:00:00+00:00\"},{\"id\":\"b0c7842a-930f-4a11-95c3-e77f42edeaa9\",\"contributors\":{\"activity_balance\":84,\"body_temperature\":73,\"hrv_balance\":54,\"previous_day_activity\":100,\"previous_night\":100,\"recovery_index\":42,\"resting_heart_rate\":75,\"sleep_balance\":74},\"day\":\"2023-02-16\",\"score\":74,\"temperature_deviation\":0.38,\"temperature_trend_deviation\":0.57,\"timestamp\":\"2023-02-16T00:00:00+00:00\"},{\"id\":\"29c609bf-75c0-418f-bc52-1ec4699a3d51\",\"contributors\":{\"activity_balance\":92,\"body_temperature\":100,\"hrv_balance\":55,\"previous_day_activity\":91,\"previous_night\":97,\"recovery_index\":29,\"resting_heart_rate\":98,\"sleep_balance\":77},\"day\":\"2023-02-18\",\"score\":78,\"temperature_deviation\":-0.15,\"temperature_trend_deviation\":0.35,\"timestamp\":\"2023-02-18T00:00:00+00:00\"},{\"id\":\"b41d3b7f-4c51-4d6a-8368-2d26bcc7fe33\",\"contributors\":{\"activity_balance\":null,\"body_temperature\":89,\"hrv_balance\":null,\"previous_day_activity\":88,\"previous_night\":97,\"recovery_index\":60,\"resting_heart_rate\":100,\"sleep_balance\":null},\"day\":\"2023-02-21\",\"score\":89,\"temperature_deviation\":0.18,\"temperature_trend_deviation\":0.27,\"timestamp\":\"2023-02-21T00:00:00+00:00\"},{\"id\":\"272dae82-3329-4c1f-aa22-7980d6cc7503\",\"contributors\":{\"activity_balance\":null,\"body_temperature\":100,\"hrv_balance\":null,\"previous_day_activity\":92,\"previous_night\":87,\"recovery_index\":100,\"resting_heart_rate\":59,\"sleep_balance\":null},\"day\":\"2023-02-23\",\"score\":82,\"temperature_deviation\":-0.11,\"temperature_trend_deviation\":0.18,\"timestamp\":\"2023-02-23T00:00:00+00:00\"},{\"id\":\"0afaeefa-7d14-48c1-becf-34132e4168c0\",\"contributors\":{\"activity_balance\":93,\"body_temperature\":100,\"hrv_balance\":86,\"previous_day_activity\":70,\"previous_night\":84,\"recovery_index\":72,\"resting_heart_rate\":100,\"sleep_balance\":72},\"day\":\"2023-02-24\",\"score\":82,\"temperature_deviation\":-0.15,\"temperature_trend_deviation\":0.11,\"timestamp\":\"2023-02-24T00:00:00+00:00\"},{\"id\":\"4e206cbc-0667-4334-9d79-ac7b941c043a\",\"contributors\":{\"activity_balance\":91,\"body_temperature\":100,\"hrv_balance\":89,\"previous_day_activity\":90,\"previous_night\":79,\"recovery_index\":57,\"resting_heart_rate\":89,\"sleep_balance\":72},\"day\":\"2023-02-25\",\"score\":80,\"temperature_deviation\":0.05,\"temperature_trend_deviation\":0.12,\"timestamp\":\"2023-02-25T00:00:00+00:00\"},{\"id\":\"6f63c40e-55dd-46b3-a5e0-63cd03f23a7e\",\"contributors\":{\"activity_balance\":87,\"body_temperature\":97,\"hrv_balance\":95,\"previous_day_activity\":80,\"previous_night\":67,\"recovery_index\":84,\"resting_heart_rate\":89,\"sleep_balance\":65},\"day\":\"2023-02-26\",\"score\":79,\"temperature_deviation\":-0.22,\"temperature_trend_deviation\":0.08,\"timestamp\":\"2023-02-26T00:00:00+00:00\"},{\"id\":\"7559a9aa-8a53-4d6c-ba47-da950190ebd6\",\"contributors\":{\"activity_balance\":79,\"body_temperature\":100,\"hrv_balance\":75,\"previous_day_activity\":83,\"previous_night\":98,\"recovery_index\":54,\"resting_heart_rate\":52,\"sleep_balance\":62},\"day\":\"2023-02-27\",\"score\":71,\"temperature_deviation\":-0.02,\"temperature_trend_deviation\":0.09,\"timestamp\":\"2023-02-27T00:00:00+00:00\"},{\"id\":\"d23fbed5-08a3-4f0f-a45e-4fe0e6e941d5\",\"contributors\":{\"activity_balance\":75,\"body_temperature\":100,\"hrv_balance\":87,\"previous_day_activity\":74,\"previous_night\":92,\"recovery_index\":100,\"resting_heart_rate\":90,\"sleep_balance\":61},\"day\":\"2023-02-28\",\"score\":81,\"temperature_deviation\":-0.05,\"temperature_trend_deviation\":0.1,\"timestamp\":\"2023-02-28T00:00:00+00:00\"},{\"id\":\"a2e71c9f-4ac8-45a8-b88e-19d44026c141\",\"contributors\":{\"activity_balance\":74,\"body_temperature\":100,\"hrv_balance\":92,\"previous_day_activity\":91,\"previous_night\":100,\"recovery_index\":72,\"resting_heart_rate\":99,\"sleep_balance\":69},\"day\":\"2023-03-01\",\"score\":85,\"temperature_deviation\":-0.15,\"temperature_trend_deviation\":0.08,\"timestamp\":\"2023-03-01T00:00:00+00:00\"},{\"id\":\"c22c3072-73f3-4759-9e1b-5b50c090a6f8\",\"contributors\":{\"activity_balance\":78,\"body_temperature\":100,\"hrv_balance\":87,\"previous_day_activity\":100,\"previous_night\":89,\"recovery_index\":45,\"resting_heart_rate\":74,\"sleep_balance\":66},\"day\":\"2023-03-02\",\"score\":76,\"temperature_deviation\":-0.14,\"temperature_trend_deviation\":0.04,\"timestamp\":\"2023-03-02T00:00:00+00:00\"},{\"id\":\"c8049859-950d-4db0-9109-41ffc8965f58\",\"contributors\":{\"activity_balance\":87,\"body_temperature\":100,\"hrv_balance\":88,\"previous_day_activity\":93,\"previous_night\":36,\"recovery_index\":24,\"resting_heart_rate\":52,\"sleep_balance\":45},\"day\":\"2023-03-05\",\"score\":58,\"temperature_deviation\":-0.1,\"temperature_trend_deviation\":0.03,\"timestamp\":\"2023-03-05T00:00:00+00:00\"},{\"id\":\"d2a2bfc4-ec77-4e9a-b15a-a36ebb17d384\",\"contributors\":{\"activity_balance\":92,\"body_temperature\":95,\"hrv_balance\":76,\"previous_day_activity\":96,\"previous_night\":100,\"recovery_index\":89,\"resting_heart_rate\":60,\"sleep_balance\":61},\"day\":\"2023-03-06\",\"score\":78,\"temperature_deviation\":0.11,\"temperature_trend_deviation\":0.13,\"timestamp\":\"2023-03-06T00:00:00+00:00\"},{\"id\":\"808b01e4-ae8b-43e9-b9e8-3c946ed6b68e\",\"contributors\":{\"activity_balance\":85,\"body_temperature\":100,\"hrv_balance\":86,\"previous_day_activity\":80,\"previous_night\":88,\"recovery_index\":85,\"resting_heart_rate\":99,\"sleep_balance\":64},\"day\":\"2023-03-07\",\"score\":82,\"temperature_deviation\":-0.05,\"temperature_trend_deviation\":0.16,\"timestamp\":\"2023-03-07T00:00:00+00:00\"},{\"id\":\"b914c29e-5eb6-453b-9e33-060b43575ab1\",\"contributors\":{\"activity_balance\":81,\"body_temperature\":92,\"hrv_balance\":72,\"previous_day_activity\":83,\"previous_night\":81,\"recovery_index\":37,\"resting_heart_rate\":61,\"sleep_balance\":61},\"day\":\"2023-03-08\",\"score\":67,\"temperature_deviation\":0.15,\"temperature_trend_deviation\":0.22,\"timestamp\":\"2023-03-08T00:00:00+00:00\"},{\"id\":\"90d48988-04a6-4d55-a0f5-90cb25ca1032\",\"contributors\":{\"activity_balance\":88,\"body_temperature\":97,\"hrv_balance\":74,\"previous_day_activity\":null,\"previous_night\":86,\"recovery_index\":64,\"resting_heart_rate\":100,\"sleep_balance\":83},\"day\":\"2023-03-10\",\"score\":83,\"temperature_deviation\":0.1,\"temperature_trend_deviation\":0.25,\"timestamp\":\"2023-03-10T00:00:00+00:00\"},{\"id\":\"c3163929-e927-41fb-895a-bc418a511047\",\"contributors\":{\"activity_balance\":87,\"body_temperature\":73,\"hrv_balance\":85,\"previous_day_activity\":94,\"previous_night\":78,\"recovery_index\":81,\"resting_heart_rate\":85,\"sleep_balance\":85},\"day\":\"2023-03-11\",\"score\":80,\"temperature_deviation\":0.37,\"temperature_trend_deviation\":0.39,\"timestamp\":\"2023-03-11T00:00:00+00:00\"},{\"id\":\"88ce0327-8175-488c-a3de-8a97f7bd9b0b\",\"contributors\":{\"activity_balance\":74,\"body_temperature\":89,\"hrv_balance\":64,\"previous_day_activity\":71,\"previous_night\":19,\"recovery_index\":61,\"resting_heart_rate\":2,\"sleep_balance\":57},\"day\":\"2023-03-12\",\"score\":48,\"temperature_deviation\":0.19,\"temperature_trend_deviation\":0.42,\"timestamp\":\"2023-03-12T00:00:00+00:00\"},{\"id\":\"adb483b8-48f1-4f92-a82b-296f8ea0ee36\",\"contributors\":{\"activity_balance\":74,\"body_temperature\":96,\"hrv_balance\":59,\"previous_day_activity\":100,\"previous_night\":77,\"recovery_index\":41,\"resting_heart_rate\":71,\"sleep_balance\":49},\"day\":\"2023-03-13\",\"score\":65,\"temperature_deviation\":0.1,\"temperature_trend_deviation\":0.37,\"timestamp\":\"2023-03-13T00:00:00+00:00\"},{\"id\":\"7ceb5bf8-de7b-479e-936f-2bdd47ae08a7\",\"contributors\":{\"activity_balance\":74,\"body_temperature\":95,\"hrv_balance\":82,\"previous_day_activity\":86,\"previous_night\":37,\"recovery_index\":24,\"resting_heart_rate\":100,\"sleep_balance\":37},\"day\":\"2023-03-14\",\"score\":61,\"temperature_deviation\":0.12,\"temperature_trend_deviation\":0.31,\"timestamp\":\"2023-03-14T00:00:00+00:00\"},{\"id\":\"5b0e34f8-b00c-4881-bec6-ab7445d081f4\",\"contributors\":{\"activity_balance\":82,\"body_temperature\":87,\"hrv_balance\":85,\"previous_day_activity\":null,\"previous_night\":100,\"recovery_index\":100,\"resting_heart_rate\":99,\"sleep_balance\":26},\"day\":\"2023-03-16\",\"score\":80,\"temperature_deviation\":0.21,\"temperature_trend_deviation\":0.38,\"timestamp\":\"2023-03-16T00:00:00+00:00\"},{\"id\":\"300188e7-ed07-4194-b3ff-1ad9567143e3\",\"contributors\":{\"activity_balance\":90,\"body_temperature\":100,\"hrv_balance\":85,\"previous_day_activity\":99,\"previous_night\":27,\"recovery_index\":75,\"resting_heart_rate\":57,\"sleep_balance\":null},\"day\":\"2023-03-18\",\"score\":69,\"temperature_deviation\":-0.14,\"temperature_trend_deviation\":0.23,\"timestamp\":\"2023-03-18T00:00:00+00:00\"},{\"id\":\"d75ca291-d93e-4126-8bf8-d6b184f015d0\",\"contributors\":{\"activity_balance\":97,\"body_temperature\":100,\"hrv_balance\":90,\"previous_day_activity\":null,\"previous_night\":95,\"recovery_index\":57,\"resting_heart_rate\":95,\"sleep_balance\":8},\"day\":\"2023-03-20\",\"score\":73,\"temperature_deviation\":-0.14,\"temperature_trend_deviation\":0.11,\"timestamp\":\"2023-03-20T00:00:00+00:00\"}],\"next_token\":null}\n"
     ]
    }
   ],
   "source": [
    "import requests\n",
    "\n",
    "# Your Personal Access Token\n",
    "TOKEN = ''\n",
    "\n",
    "# Oura API endpoint to fetch sleep data\n",
    "URL = 'https://api.ouraring.com/v2/usercollection/daily_readiness'\n",
    "\n",
    "# Parameters for the desired date range\n",
    "params = {\n",
    "    'start_date': '2023-01-22',\n",
    "    'end_date': '2023-03-20'\n",
    "}\n",
    "\n",
    "# Set up the headers with your token\n",
    "headers = {\n",
    "    'Authorization': f'Bearer {TOKEN}',\n",
    "    'Content-Type': 'application/json'\n",
    "}\n",
    "\n",
    "# Make the GET request\n",
    "response = requests.get(URL, headers=headers, params=params)\n",
    "\n",
    "# Print the response\n",
    "if response.status_code == 200:\n",
    "    print(response.text)\n",
    "else:\n",
    "    print(f\"Failed to fetch data. Status code: {response.status_code}, Message: {response.text}\")\n",
    "\n"
   ]
  },
  {
   "cell_type": "code",
   "execution_count": 19,
   "metadata": {},
   "outputs": [
    {
     "name": "stdout",
     "output_type": "stream",
     "text": [
      "Response saved to '/Users/nada/Desktop/readiness.txt'\n"
     ]
    }
   ],
   "source": [
    "# Assuming you already have response.text\n",
    "text_to_save = response.text\n",
    "\n",
    "# Specify the filename with the desired path\n",
    "filename = '/readiness.txt'\n",
    "\n",
    "# Save the text to the specified file\n",
    "try:\n",
    "    with open(filename, 'w') as file:\n",
    "        file.write(text_to_save)\n",
    "    print(f\"Response saved to '{filename}'\")\n",
    "    \n",
    "except OSError as e:\n",
    "    print(f\"Failed to save the file. Error: {e}\")\n"
   ]
  },
  {
   "cell_type": "code",
   "execution_count": 20,
   "metadata": {},
   "outputs": [
    {
     "name": "stdout",
     "output_type": "stream",
     "text": [
      "           day  score\n",
      "0   2023-01-22     86\n",
      "1   2023-01-23     87\n",
      "2   2023-01-25     77\n",
      "3   2023-01-27     64\n",
      "4   2023-01-29     74\n",
      "5   2023-01-30     77\n",
      "6   2023-02-01     83\n",
      "7   2023-02-02     73\n",
      "8   2023-02-03     82\n",
      "9   2023-02-04     76\n",
      "10  2023-02-05     89\n",
      "11  2023-02-06     87\n",
      "12  2023-02-09     88\n",
      "13  2023-02-10     73\n",
      "14  2023-02-13     80\n",
      "15  2023-02-14     71\n",
      "16  2023-02-15     70\n",
      "17  2023-02-16     74\n",
      "18  2023-02-18     78\n",
      "19  2023-02-21     89\n",
      "20  2023-02-23     82\n",
      "21  2023-02-24     82\n",
      "22  2023-02-25     80\n",
      "23  2023-02-26     79\n",
      "24  2023-02-27     71\n",
      "25  2023-02-28     81\n",
      "26  2023-03-01     85\n",
      "27  2023-03-02     76\n",
      "28  2023-03-05     58\n",
      "29  2023-03-06     78\n",
      "30  2023-03-07     82\n",
      "31  2023-03-08     67\n",
      "32  2023-03-10     83\n",
      "33  2023-03-11     80\n",
      "34  2023-03-12     48\n",
      "35  2023-03-13     65\n",
      "36  2023-03-14     61\n",
      "37  2023-03-16     80\n",
      "38  2023-03-18     69\n",
      "39  2023-03-20     73\n"
     ]
    }
   ],
   "source": [
    "import pandas as pd\n",
    "import json\n",
    "\n",
    "# Read the content of the txt file\n",
    "with open('/readiness.txt', 'r') as file:\n",
    "    content = file.read()\n",
    "\n",
    "# Parse the content as JSON\n",
    "output = json.loads(content)\n",
    "\n",
    "# Extract day, score, and sleep_balance\n",
    "data_list = [\n",
    "    {\n",
    "        \"day\": item[\"day\"],\n",
    "        \"score\": item[\"score\"],\n",
    "        #\"temp\": item[\"contributors\"][\"body_temperature\"]\n",
    "    }\n",
    "    for item in output[\"data\"]\n",
    "]\n",
    "\n",
    "# Convert to a pandas DataFrame\n",
    "df = pd.DataFrame(data_list)\n",
    "\n",
    "# Display the table\n",
    "print(df)\n"
   ]
  },
  {
   "cell_type": "code",
   "execution_count": 21,
   "metadata": {},
   "outputs": [
    {
     "name": "stdout",
     "output_type": "stream",
     "text": [
      "DataFrame saved to '/Users/nada/Desktop/readiness.txt'\n"
     ]
    }
   ],
   "source": [
    "\n",
    "# Specify the filename with the desired path\n",
    "filename = '/readiness.txt'\n",
    "\n",
    "# Save the DataFrame to the specified file\n",
    "try:\n",
    "    df.to_csv(filename, sep='\\t', index=False)\n",
    "    print(f\"DataFrame saved to '{filename}'\")\n",
    "except OSError as e:\n",
    "    print(f\"Failed to save the file. Error: {e}\")"
   ]
  }
 ],
 "metadata": {
  "kernelspec": {
   "display_name": "Python 3",
   "language": "python",
   "name": "python3"
  },
  "language_info": {
   "codemirror_mode": {
    "name": "ipython",
    "version": 3
   },
   "file_extension": ".py",
   "mimetype": "text/x-python",
   "name": "python",
   "nbconvert_exporter": "python",
   "pygments_lexer": "ipython3",
   "version": "3.11.2"
  },
  "orig_nbformat": 4
 },
 "nbformat": 4,
 "nbformat_minor": 2
}
