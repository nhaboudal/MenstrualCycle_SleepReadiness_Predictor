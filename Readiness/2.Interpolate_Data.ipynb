{
 "cells": [
  {
   "cell_type": "code",
   "execution_count": 20,
   "metadata": {},
   "outputs": [
    {
     "name": "stdout",
     "output_type": "stream",
     "text": [
      "        date  readiness_score  temperature  phase\n",
      "0    8/29/22             89.0         97.0      1\n",
      "1    8/30/22             78.0         98.0      1\n",
      "2    8/31/22             82.0         93.0      1\n",
      "3     9/1/22             78.0        100.0      1\n",
      "4     9/2/22             82.0         99.0      1\n",
      "..       ...              ...          ...    ...\n",
      "141  1/19/23             87.0         89.0      4\n",
      "142  1/19/23             89.0         89.0      4\n",
      "143  1/20/23             85.0        100.0      4\n",
      "144  1/21/23             85.5          NaN      4\n",
      "145  1/22/23             86.0        100.0      4\n",
      "\n",
      "[146 rows x 4 columns]\n"
     ]
    }
   ],
   "source": [
    "import pandas as pd\n",
    "import numpy as np\n",
    "\n",
    "# Load data from CSV\n",
    "file_path = '/'  # Replace with the path to your CSV file\n",
    "df = pd.read_csv(file_path)\n",
    "\n",
    "# Interpolate missing values for each phase separately\n",
    "for phase in df['phase'].unique():\n",
    "    mask = df['phase'] == phase\n",
    "    df.loc[mask, 'readiness_score'] = df.loc[mask, 'readiness_score'].interpolate()\n",
    "\n",
    "    # If there are still NaN values (e.g., the first or last value in a phase is NaN), fill with the mean of the phase\n",
    "    phase_mean = df.loc[mask, 'readiness_score'].mean()\n",
    "    df.loc[mask, 'readiness_score'] = df.loc[mask, 'readiness_score'].fillna(phase_mean)\n",
    "\n",
    "# Save the interpolated data back to CSV (or to a new file if you prefer)\n",
    "df.to_csv(file_path, index=False)\n",
    "\n",
    "print(df)\n"
   ]
  },
  {
   "cell_type": "code",
   "execution_count": 21,
   "metadata": {},
   "outputs": [
    {
     "name": "stdout",
     "output_type": "stream",
     "text": [
      "DataFrame saved to '/Users/nada/Desktop/Oura_Project/Oura_Data_Final.csv'\n"
     ]
    }
   ],
   "source": [
    "\n",
    "# Specify the filename with the desired path\n",
    "filename = '/'\n",
    "\n",
    "# Save the DataFrame to the specified file\n",
    "try:\n",
    "    df.to_csv(filename, sep='\\t', index=False)\n",
    "    print(f\"DataFrame saved to '{filename}'\")\n",
    "except OSError as e:\n",
    "    print(f\"Failed to save the file. Error: {e}\")"
   ]
  }
 ],
 "metadata": {
  "kernelspec": {
   "display_name": "Python 3",
   "language": "python",
   "name": "python3"
  },
  "language_info": {
   "codemirror_mode": {
    "name": "ipython",
    "version": 3
   },
   "file_extension": ".py",
   "mimetype": "text/x-python",
   "name": "python",
   "nbconvert_exporter": "python",
   "pygments_lexer": "ipython3",
   "version": "3.11.2"
  },
  "orig_nbformat": 4
 },
 "nbformat": 4,
 "nbformat_minor": 2
}
