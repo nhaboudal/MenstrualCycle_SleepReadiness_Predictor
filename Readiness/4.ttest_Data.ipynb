{
 "cells": [
  {
   "cell_type": "markdown",
   "metadata": {},
   "source": [
    "**Descriptve Statistics**"
   ]
  },
  {
   "cell_type": "code",
   "execution_count": 3,
   "metadata": {},
   "outputs": [
    {
     "name": "stdout",
     "output_type": "stream",
     "text": [
      "            mean       std\n",
      "phase                     \n",
      "1      81.485714  7.801853\n",
      "2      82.293651  8.005862\n",
      "4      79.364583  8.613287\n"
     ]
    }
   ],
   "source": [
    "import pandas as pd\n",
    "\n",
    "# Load data from CSV\n",
    "file_path = '/Data_Option1.csv'  # Replace with the path to your CSV file\n",
    "df = pd.read_csv(file_path)\n",
    "\n",
    "# Group by phase and calculate mean and standard deviation for the sleep score\n",
    "grouped = df.groupby('phase')['readiness_score'].agg(['mean', 'std'])\n",
    "\n",
    "print(grouped)\n"
   ]
  },
  {
   "cell_type": "code",
   "execution_count": 6,
   "metadata": {},
   "outputs": [
    {
     "name": "stdout",
     "output_type": "stream",
     "text": [
      "            mean       std\n",
      "phase                     \n",
      "1      82.005102  7.902790\n",
      "4      79.364583  8.613287\n"
     ]
    }
   ],
   "source": [
    "import pandas as pd\n",
    "\n",
    "# Load data from CSV\n",
    "file_path = '/Data_Option2.csv'  # Replace with the path to your CSV file\n",
    "df = pd.read_csv(file_path)\n",
    "\n",
    "# Group by phase and calculate mean and standard deviation for the sleep score\n",
    "grouped = df.groupby('phase')['readiness_score'].agg(['mean', 'std'])\n",
    "\n",
    "print(grouped)"
   ]
  },
  {
   "cell_type": "markdown",
   "metadata": {},
   "source": [
    "**Preliminary test ttest** at 5% and then at 10%"
   ]
  },
  {
   "cell_type": "code",
   "execution_count": 1,
   "metadata": {},
   "outputs": [
    {
     "name": "stdout",
     "output_type": "stream",
     "text": [
      "t-test between Phase 1 and Phase 2:\n",
      "t-statistic: -0.4866\n",
      "p-value: 0.6280\n",
      "The difference is not statistically significant at the 0.05 level.\n",
      "------\n",
      "t-test between Phase 1 and Phase 4:\n",
      "t-statistic: 1.1704\n",
      "p-value: 0.2455\n",
      "The difference is not statistically significant at the 0.05 level.\n",
      "------\n",
      "t-test between Phase 2 and Phase 4:\n",
      "t-statistic: 1.8296\n",
      "p-value: 0.0704\n",
      "The difference is not statistically significant at the 0.05 level.\n",
      "------\n"
     ]
    }
   ],
   "source": [
    "import pandas as pd\n",
    "from scipy import stats\n",
    "\n",
    "# Load data from CSV\n",
    "file_path = '/Data_Option1.csv'  # Replace with the path to your CSV file\n",
    "df = pd.read_csv(file_path)\n",
    "\n",
    "# Extract unique phases\n",
    "unique_phases = df['phase'].unique()\n",
    "\n",
    "# Conduct t-tests between each pair of phases\n",
    "results = {}\n",
    "for i in range(len(unique_phases)):\n",
    "    for j in range(i+1, len(unique_phases)):\n",
    "        phase1 = unique_phases[i]\n",
    "        phase2 = unique_phases[j]\n",
    "        \n",
    "        data1 = df[df['phase'] == phase1]['readiness_score']\n",
    "        data2 = df[df['phase'] == phase2]['readiness_score']\n",
    "        \n",
    "        t_stat, p_value = stats.ttest_ind(data1, data2, equal_var=False, nan_policy='omit')  # Using Welch's t-test (does not assume equal variances)\n",
    "        \n",
    "        results[(phase1, phase2)] = (t_stat, p_value)\n",
    "\n",
    "# Print results\n",
    "for (phase1, phase2), (t_stat, p_value) in results.items():\n",
    "    print(f\"t-test between Phase {phase1} and Phase {phase2}:\")\n",
    "    print(f\"t-statistic: {t_stat:.4f}\")\n",
    "    print(f\"p-value: {p_value:.4f}\")\n",
    "    if p_value < 0.05:\n",
    "        print(\"The difference is statistically significant at the 0.05 level.\")\n",
    "    else:\n",
    "        print(\"The difference is not statistically significant at the 0.05 level.\")\n",
    "    print(\"------\")\n"
   ]
  },
  {
   "cell_type": "code",
   "execution_count": 2,
   "metadata": {},
   "outputs": [
    {
     "name": "stdout",
     "output_type": "stream",
     "text": [
      "t-test between Phase 1 and Phase 4:\n",
      "t-statistic: 1.7872\n",
      "p-value: 0.0774\n",
      "The difference is not statistically significant at the 0.05 level.\n",
      "------\n"
     ]
    }
   ],
   "source": [
    "import pandas as pd\n",
    "from scipy import stats\n",
    "\n",
    "# Load data from CSV\n",
    "file_path = '/Option2.csv'  # Replace with the path to your CSV file\n",
    "\n",
    "df = pd.read_csv(file_path)\n",
    "\n",
    "# Extract unique phases\n",
    "unique_phases = df['phase'].unique()\n",
    "\n",
    "# Conduct t-tests between each pair of phases\n",
    "results = {}\n",
    "for i in range(len(unique_phases)):\n",
    "    for j in range(i+1, len(unique_phases)):\n",
    "        phase1 = unique_phases[i]\n",
    "        phase2 = unique_phases[j]\n",
    "        \n",
    "        data1 = df[df['phase'] == phase1]['readiness_score']\n",
    "        data2 = df[df['phase'] == phase2]['readiness_score']\n",
    "        \n",
    "        t_stat, p_value = stats.ttest_ind(data1, data2, equal_var=False, nan_policy='omit')  # Using Welch's t-test (does not assume equal variances)\n",
    "        \n",
    "        results[(phase1, phase2)] = (t_stat, p_value)\n",
    "\n",
    "# Print results\n",
    "for (phase1, phase2), (t_stat, p_value) in results.items():\n",
    "    print(f\"t-test between Phase {phase1} and Phase {phase2}:\")\n",
    "    print(f\"t-statistic: {t_stat:.4f}\")\n",
    "    print(f\"p-value: {p_value:.4f}\")\n",
    "    if p_value < 0.05:\n",
    "        print(\"The difference is statistically significant at the 0.05 level.\")\n",
    "    else:\n",
    "        print(\"The difference is not statistically significant at the 0.05 level.\")\n",
    "    print(\"------\")"
   ]
  },
  {
   "cell_type": "code",
   "execution_count": 3,
   "metadata": {},
   "outputs": [
    {
     "name": "stdout",
     "output_type": "stream",
     "text": [
      "t-test between Phase 1 and Phase 2:\n",
      "t-statistic: -0.4866\n",
      "p-value: 0.6280\n",
      "The difference is not statistically significant at the 0.10 level.\n",
      "------\n",
      "t-test between Phase 1 and Phase 4:\n",
      "t-statistic: 1.1704\n",
      "p-value: 0.2455\n",
      "The difference is not statistically significant at the 0.10 level.\n",
      "------\n",
      "t-test between Phase 2 and Phase 4:\n",
      "t-statistic: 1.8296\n",
      "p-value: 0.0704\n",
      "The difference is statistically significant at the 0.10 level.\n",
      "------\n"
     ]
    }
   ],
   "source": [
    "import pandas as pd\n",
    "from scipy import stats\n",
    "\n",
    "# Load data from CSV\n",
    "file_path = '/Option1.csv'  # Replace with the path to your CSV file\n",
    "df = pd.read_csv(file_path)\n",
    "\n",
    "# Extract unique phases\n",
    "unique_phases = df['phase'].unique()\n",
    "\n",
    "# Conduct t-tests between each pair of phases\n",
    "results = {}\n",
    "for i in range(len(unique_phases)):\n",
    "    for j in range(i+1, len(unique_phases)):\n",
    "        phase1 = unique_phases[i]\n",
    "        phase2 = unique_phases[j]\n",
    "        \n",
    "        data1 = df[df['phase'] == phase1]['readiness_score']\n",
    "        data2 = df[df['phase'] == phase2]['readiness_score']\n",
    "        \n",
    "        t_stat, p_value = stats.ttest_ind(data1, data2, equal_var=False, nan_policy='omit')  # Using Welch's t-test (does not assume equal variances)\n",
    "        \n",
    "        results[(phase1, phase2)] = (t_stat, p_value)\n",
    "\n",
    "# Print results\n",
    "for (phase1, phase2), (t_stat, p_value) in results.items():\n",
    "    print(f\"t-test between Phase {phase1} and Phase {phase2}:\")\n",
    "    print(f\"t-statistic: {t_stat:.4f}\")\n",
    "    print(f\"p-value: {p_value:.4f}\")\n",
    "    if p_value < 0.10:  # Adjusted significance level to 10%\n",
    "        print(\"The difference is statistically significant at the 0.10 level.\")\n",
    "    else:\n",
    "        print(\"The difference is not statistically significant at the 0.10 level.\")\n",
    "    print(\"------\")\n"
   ]
  },
  {
   "cell_type": "code",
   "execution_count": 4,
   "metadata": {},
   "outputs": [
    {
     "name": "stdout",
     "output_type": "stream",
     "text": [
      "t-test between Phase 1 and Phase 4:\n",
      "t-statistic: 1.7872\n",
      "p-value: 0.0774\n",
      "The difference is statistically significant at the 0.10 level.\n",
      "------\n"
     ]
    }
   ],
   "source": [
    "import pandas as pd\n",
    "from scipy import stats\n",
    "\n",
    "# Load data from CSV\n",
    "file_path = '/Data_Option2.csv'  # Replace with the path to your CSV file\n",
    "\n",
    "df = pd.read_csv(file_path)\n",
    "\n",
    "# Extract unique phases\n",
    "unique_phases = df['phase'].unique()\n",
    "\n",
    "# Conduct t-tests between each pair of phases\n",
    "results = {}\n",
    "for i in range(len(unique_phases)):\n",
    "    for j in range(i+1, len(unique_phases)):\n",
    "        phase1 = unique_phases[i]\n",
    "        phase2 = unique_phases[j]\n",
    "        \n",
    "        data1 = df[df['phase'] == phase1]['readiness_score']\n",
    "        data2 = df[df['phase'] == phase2]['readiness_score']\n",
    "        \n",
    "        t_stat, p_value = stats.ttest_ind(data1, data2, equal_var=False, nan_policy='omit')  # Using Welch's t-test (does not assume equal variances)\n",
    "        \n",
    "        results[(phase1, phase2)] = (t_stat, p_value)\n",
    "\n",
    "# Print results\n",
    "for (phase1, phase2), (t_stat, p_value) in results.items():\n",
    "    print(f\"t-test between Phase {phase1} and Phase {phase2}:\")\n",
    "    print(f\"t-statistic: {t_stat:.4f}\")\n",
    "    print(f\"p-value: {p_value:.4f}\")\n",
    "    if p_value < 0.10:  # Adjusted significance level to 10%\n",
    "        print(\"The difference is statistically significant at the 0.10 level.\")\n",
    "    else:\n",
    "        print(\"The difference is not statistically significant at the 0.10 level.\")\n",
    "    print(\"------\") "
   ]
  },
  {
   "cell_type": "markdown",
   "metadata": {},
   "source": [
    "**Preliminary test ANOVA** at 10%"
   ]
  },
  {
   "cell_type": "code",
   "execution_count": 9,
   "metadata": {},
   "outputs": [
    {
     "name": "stdout",
     "output_type": "stream",
     "text": [
      "               sum_sq     df         F    PR(>F)\n",
      "C(phase)   239.330165    2.0  1.795561  0.169757\n",
      "Residual  9530.230109  143.0       NaN       NaN\n",
      "\n",
      "The effect of phase on readiness_score is not statistically significant at the 10% level.\n"
     ]
    }
   ],
   "source": [
    "import pandas as pd\n",
    "import statsmodels.api as sm\n",
    "from statsmodels.formula.api import ols\n",
    "\n",
    "# Load data from CSV\n",
    "file_path = '/Data_Option1.csv'  # Replace with the path to your CSV file\n",
    "df = pd.read_csv(file_path)\n",
    "\n",
    "# Conduct ANOVA\n",
    "model = ols('readiness_score ~ C(phase)', data=df).fit()\n",
    "anova_table = sm.stats.anova_lm(model, typ=2)\n",
    "\n",
    "print(anova_table)\n",
    "\n",
    "# Interpretation at 10% significance level\n",
    "p_value = anova_table.loc['C(phase)', 'PR(>F)']\n",
    "if p_value < 0.10:\n",
    "    print(\"\\nThe effect of phase on readiness_score is statistically significant at the 10% level.\")\n",
    "else:\n",
    "    print(\"\\nThe effect of phase on readiness_score is not statistically significant at the 10% level.\")\n"
   ]
  },
  {
   "cell_type": "code",
   "execution_count": 8,
   "metadata": {},
   "outputs": [
    {
     "name": "stdout",
     "output_type": "stream",
     "text": [
      "               sum_sq     df         F    PR(>F)\n",
      "C(phase)   224.643033    1.0  3.389091  0.067687\n",
      "Residual  9544.917241  144.0       NaN       NaN\n",
      "\n",
      "The effect of phase on readiness_score is statistically significant at the 10% level.\n"
     ]
    }
   ],
   "source": [
    "import pandas as pd\n",
    "import statsmodels.api as sm\n",
    "from statsmodels.formula.api import ols\n",
    "\n",
    "# Load data from CSV\n",
    "file_path = '/Data_Option2.csv'  # Replace with the path to your CSV file\n",
    "df = pd.read_csv(file_path)\n",
    "\n",
    "# Conduct ANOVA\n",
    "model = ols('readiness_score ~ C(phase)', data=df).fit()\n",
    "anova_table = sm.stats.anova_lm(model, typ=2)\n",
    "\n",
    "print(anova_table)\n",
    "\n",
    "# Interpretation at 10% significance level\n",
    "p_value = anova_table.loc['C(phase)', 'PR(>F)']\n",
    "if p_value < 0.10:\n",
    "    print(\"\\nThe effect of phase on readiness_score is statistically significant at the 10% level.\")\n",
    "else:\n",
    "    print(\"\\nThe effect of phase on readiness_score is not statistically significant at the 10% level.\")\n"
   ]
  }
 ],
 "metadata": {
  "kernelspec": {
   "display_name": "Python 3",
   "language": "python",
   "name": "python3"
  },
  "language_info": {
   "codemirror_mode": {
    "name": "ipython",
    "version": 3
   },
   "file_extension": ".py",
   "mimetype": "text/x-python",
   "name": "python",
   "nbconvert_exporter": "python",
   "pygments_lexer": "ipython3",
   "version": "3.11.2"
  },
  "orig_nbformat": 4
 },
 "nbformat": 4,
 "nbformat_minor": 2
}
